{
  "nbformat": 4,
  "nbformat_minor": 0,
  "metadata": {
    "colab": {
      "name": "MS Analysis v2.ipynb",
      "provenance": []
    },
    "kernelspec": {
      "name": "python3",
      "display_name": "Python 3"
    }
  },
  "cells": [
    {
      "cell_type": "markdown",
      "metadata": {
        "id": "UkiBbuaMyxf7",
        "colab_type": "text"
      },
      "source": [
        "Upload the reference list and the raw data onto Google Colab workspace"
      ]
    },
    {
      "cell_type": "code",
      "metadata": {
        "id": "QZ4bWKfVywNp",
        "colab_type": "code",
        "colab": {}
      },
      "source": [
        "!ls\n",
        "from google.colab import files\n",
        "files.upload()"
      ],
      "execution_count": 0,
      "outputs": []
    },
    {
      "cell_type": "markdown",
      "metadata": {
        "id": "D8ctvnisztTk",
        "colab_type": "text"
      },
      "source": [
        "Verify uploading"
      ]
    },
    {
      "cell_type": "code",
      "metadata": {
        "id": "w7ngXj78zb4Y",
        "colab_type": "code",
        "colab": {}
      },
      "source": [
        "!ls"
      ],
      "execution_count": 0,
      "outputs": []
    },
    {
      "cell_type": "markdown",
      "metadata": {
        "id": "9kDD_RRszxqM",
        "colab_type": "text"
      },
      "source": [
        "Convert CSV file for the ref list to dictionary"
      ]
    },
    {
      "cell_type": "code",
      "metadata": {
        "id": "5npzCzW6z0K-",
        "colab_type": "code",
        "colab": {}
      },
      "source": [
        "import csv\n",
        "\n",
        "combi_code = {0:'AspGln', 1:'AspGlu', 2:'AsnGln', 3:'AsnGlu'}\n",
        "# Specify the reference to work with\n",
        "code = 0\n",
        "ref_list_name = 'RefList_' + combi_code[code] + '.csv'\n",
        "\n",
        "ref = {}\n",
        "\n",
        "with open(ref_list_name, newline='') as csvfile:\n",
        "  mycsv = csv.reader(csvfile)\n",
        "  # Skip the header\n",
        "  next(mycsv)\n",
        "  for row in mycsv:\n",
        "    new_key = row[1]\n",
        "    new_value = float(row[2])\n",
        "    ref[new_key] = new_value\n",
        "\n",
        "print(len(ref))"
      ],
      "execution_count": 0,
      "outputs": []
    },
    {
      "cell_type": "markdown",
      "metadata": {
        "id": "12BnGa-E41e9",
        "colab_type": "text"
      },
      "source": [
        "Convert CSV file for the raw data to list"
      ]
    },
    {
      "cell_type": "code",
      "metadata": {
        "id": "13eg-gmR46a_",
        "colab_type": "code",
        "colab": {}
      },
      "source": [
        "raw_data_name = 'anc.csv'\n",
        "\n",
        "raw = []\n",
        "\n",
        "with open(raw_data_name, newline='') as csvfile:\n",
        "  mycsv = csv.reader(csvfile)\n",
        "  # Skip the header\n",
        "  next(mycsv)\n",
        "  for row in mycsv:\n",
        "    new_value = float(row[0])\n",
        "    raw.append(new_value)\n",
        "\n",
        "print(len(raw))"
      ],
      "execution_count": 0,
      "outputs": []
    },
    {
      "cell_type": "markdown",
      "metadata": {
        "id": "evcRNuYCPEO2",
        "colab_type": "text"
      },
      "source": [
        "Implement the analysis"
      ]
    },
    {
      "cell_type": "code",
      "metadata": {
        "id": "vIyhCDOQLoul",
        "colab_type": "code",
        "colab": {}
      },
      "source": [
        "# Set threshold as needed\n",
        "thres_ppm = 50\n",
        "thres = thres_ppm/1000000\n",
        "# Structure of item analysis: {str:[hit counter, index, index...]}\n",
        "analysis = {}\n",
        "\n",
        "# Iterate through all elements in raw data\n",
        "for i in range(len(raw)):\n",
        "  curr = raw[i]\n",
        "  # Print progress every 1000 elements\n",
        "  if i%1000==0:\n",
        "    print(i)\n",
        "  # Compare the current elements with all elements in the reference\n",
        "  for key, value in ref.items():\n",
        "    # If the difference is less than threshold\n",
        "    if abs((curr-value)/value)<=thres:\n",
        "      # If the key has never been recorded, record it\n",
        "      # Also record the index in original data\n",
        "      if key not in analysis.keys():\n",
        "        analysis[key] = [1]\n",
        "        analysis[key].append(i)\n",
        "      # If the key has been recorder, update the counter\n",
        "      # Also record the index in original data\n",
        "      else:\n",
        "        analysis[key][0] += 1\n",
        "        analysis[key].append(i)\n",
        "    # If the difference is more than threshold, compare the next\n",
        "    else:\n",
        "      continue\n",
        "\n",
        "print(analysis)\n",
        "print('Length: ', len(analysis))\n",
        "\n",
        "# Calculate total hit count\n",
        "total_hit = 0\n",
        "for value in analysis.values():\n",
        "  total_hit = total_hit + value[0]\n",
        "print('Total hit:', total_hit)"
      ],
      "execution_count": 0,
      "outputs": []
    },
    {
      "cell_type": "markdown",
      "metadata": {
        "id": "wQGNGvxYQKE9",
        "colab_type": "text"
      },
      "source": [
        "Export the result as a csv file"
      ]
    },
    {
      "cell_type": "code",
      "metadata": {
        "id": "OVRMHm-MNocj",
        "colab_type": "code",
        "colab": {}
      },
      "source": [
        "root_name = raw_data_name.split('.')[0]\n",
        "\n",
        "# Output the hit analysis\n",
        "output_file_name = root_name + '_' + combi_code[code] + '_analysis.csv'\n",
        "with open(output_file_name, 'w') as f:\n",
        "  f.write(\"Index, Property, Hit count, Original index\\n\")\n",
        "  i = 1\n",
        "  for key in analysis.keys():\n",
        "    # Write index, charateristic string and hit count\n",
        "    f.write(\"%d,%s,%s\"%(i, key, analysis[key][0]))\n",
        "    j = 1\n",
        "    # Write all hit index\n",
        "    while j<len(analysis[key]):\n",
        "      f.write(\",%s\"%analysis[key][j])\n",
        "      j += 1\n",
        "    f.write(\"\\n\")\n",
        "    i += 1\n",
        "\n"
      ],
      "execution_count": 0,
      "outputs": []
    },
    {
      "cell_type": "markdown",
      "metadata": {
        "id": "aL9hMfXORCkA",
        "colab_type": "text"
      },
      "source": [
        "Download the output file"
      ]
    },
    {
      "cell_type": "code",
      "metadata": {
        "id": "LoXyuBmhRB8H",
        "colab_type": "code",
        "colab": {}
      },
      "source": [
        "!ls\n",
        "files.download(output_file_name)"
      ],
      "execution_count": 0,
      "outputs": []
    }
  ]
}