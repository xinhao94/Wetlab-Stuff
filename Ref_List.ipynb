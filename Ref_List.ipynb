{
  "nbformat": 4,
  "nbformat_minor": 0,
  "metadata": {
    "colab": {
      "name": "Ref List.ipynb",
      "provenance": [],
      "collapsed_sections": []
    },
    "kernelspec": {
      "name": "python3",
      "display_name": "Python 3"
    }
  },
  "cells": [
    {
      "cell_type": "markdown",
      "metadata": {
        "id": "MsdGKFopmXWM",
        "colab_type": "text"
      },
      "source": [
        "Create a dictionary for the building block \n",
        "\n",
        "Key(Modification)-Value(Molecular weight) \n",
        "\n",
        "Key (e.g. 100) -> 1 block, 0 O-acetylation, 0 N-deacetylation "
      ]
    },
    {
      "cell_type": "code",
      "metadata": {
        "id": "aLIpnL8xmQp5",
        "colab_type": "code",
        "colab": {}
      },
      "source": [
        "blocks = {'100':1040.101994, '110':1082.138752, '101':998.065235, '111':1040.101994}\n",
        "water = 18.015291\n",
        "alanine = 89.093346\n",
        "ala_bridge = 2*alanine - water\n",
        "thres = 0.05\n",
        "round_pos = 4"
      ],
      "execution_count": 0,
      "outputs": []
    },
    {
      "cell_type": "markdown",
      "metadata": {
        "id": "08S3G65ysoCx",
        "colab_type": "text"
      },
      "source": [
        "Create a dictionary for monomers\n",
        "\n",
        "Eliminate duplicate values"
      ]
    },
    {
      "cell_type": "code",
      "metadata": {
        "id": "6vLIYv9qsmYx",
        "colab_type": "code",
        "outputId": "856831ba-63a4-459b-c5f0-aca4c83f4491",
        "colab": {
          "base_uri": "https://localhost:8080/",
          "height": 51
        }
      },
      "source": [
        "monomers = {}\n",
        "for key, value in blocks.items():\n",
        "  new_key = key\n",
        "  new_value = round(value, round_pos)\n",
        "  if new_value not in monomers.values():\n",
        "    monomers[new_key] = new_value\n",
        "\n",
        "print(monomers)\n",
        "print(len(monomers))"
      ],
      "execution_count": 0,
      "outputs": [
        {
          "output_type": "stream",
          "text": [
            "{'100': 1040.102, '110': 1082.1388, '101': 998.0652}\n",
            "3\n"
          ],
          "name": "stdout"
        }
      ]
    },
    {
      "cell_type": "markdown",
      "metadata": {
        "id": "P8ITpWi5qW17",
        "colab_type": "text"
      },
      "source": [
        "Create a dictionary for dimers"
      ]
    },
    {
      "cell_type": "code",
      "metadata": {
        "id": "txSR9TW2qcJa",
        "colab_type": "code",
        "outputId": "09d9362f-46b5-4dc8-969d-09ff29bab5ae",
        "colab": {
          "base_uri": "https://localhost:8080/",
          "height": 105
        }
      },
      "source": [
        "raw_dimers = {}\n",
        "for key1, value1 in monomers.items():\n",
        "  for key2, value2 in blocks.items():\n",
        "    new_key = str(int(key1)+int(key2))\n",
        "    new_value = round(value1+value2-water, round_pos)\n",
        "    raw_dimers[new_key] = new_value\n",
        "\n",
        "print(raw_dimers)\n",
        "print(len(raw_dimers))\n",
        "\n",
        "dimers = {}\n",
        "for key, value in raw_dimers.items():\n",
        "  if value not in dimers.values():\n",
        "        dimers[key] = value\n",
        "\n",
        "print(dimers)\n",
        "print(len(dimers))"
      ],
      "execution_count": 0,
      "outputs": [
        {
          "output_type": "stream",
          "text": [
            "{'200': 2062.1887, '210': 2104.2255, '201': 2020.1519, '211': 2062.1887, '220': 2146.2623, '221': 2104.2255, '202': 1978.1151, '212': 2020.1519, '222': 2062.1887}\n",
            "9\n",
            "{'200': 2062.1887, '210': 2104.2255, '201': 2020.1519, '220': 2146.2623, '202': 1978.1151}\n",
            "5\n"
          ],
          "name": "stdout"
        }
      ]
    },
    {
      "cell_type": "markdown",
      "metadata": {
        "id": "Cu9EKxhDv3ai",
        "colab_type": "text"
      },
      "source": [
        "Create a dictionary for trimers"
      ]
    },
    {
      "cell_type": "code",
      "metadata": {
        "id": "HmGNp5FAv7T6",
        "colab_type": "code",
        "outputId": "27339103-0a20-428c-e095-73e358a7e1e0",
        "colab": {
          "base_uri": "https://localhost:8080/",
          "height": 105
        }
      },
      "source": [
        "raw_trimers = {}\n",
        "for key1, value1 in dimers.items():\n",
        "  for key2, value2 in blocks.items():\n",
        "    new_key = str(int(key1)+int(key2))\n",
        "    new_value = round(value1+value2-water, round_pos)\n",
        "    raw_trimers[new_key] = new_value\n",
        "\n",
        "print(raw_trimers)\n",
        "print(len(raw_trimers))\n",
        "\n",
        "trimers = {}\n",
        "for key, value in raw_trimers.items():\n",
        "  if value not in trimers.values():\n",
        "    trimers[key] = value\n",
        "\n",
        "print(trimers)\n",
        "print(len(trimers))"
      ],
      "execution_count": 0,
      "outputs": [
        {
          "output_type": "stream",
          "text": [
            "{'300': 3084.2754, '310': 3126.3122, '301': 3042.2386, '311': 3084.2754, '320': 3168.349, '321': 3126.3122, '302': 3000.2018, '312': 3042.2386, '330': 3210.3858, '331': 3168.349, '303': 2958.165, '313': 3000.2018}\n",
            "12\n",
            "{'300': 3084.2754, '310': 3126.3122, '301': 3042.2386, '320': 3168.349, '302': 3000.2018, '330': 3210.3858, '303': 2958.165}\n",
            "7\n"
          ],
          "name": "stdout"
        }
      ]
    },
    {
      "cell_type": "markdown",
      "metadata": {
        "id": "WkSNCHQJxgsj",
        "colab_type": "text"
      },
      "source": [
        "Create a dictionary for tetramers"
      ]
    },
    {
      "cell_type": "code",
      "metadata": {
        "id": "vFRkh8vcxc3u",
        "colab_type": "code",
        "outputId": "5f02260b-aa71-4b2e-f0fd-0d6f32772572",
        "colab": {
          "base_uri": "https://localhost:8080/",
          "height": 105
        }
      },
      "source": [
        "raw_tetramers = {}\n",
        "for key1, value1 in trimers.items():\n",
        "  for key2, value2 in blocks.items():\n",
        "    new_key = str(int(key1)+int(key2))\n",
        "    new_value = round(value1+value2-water, round_pos)\n",
        "    raw_tetramers[new_key] = new_value\n",
        "\n",
        "print(raw_tetramers)\n",
        "print(len(raw_tetramers))\n",
        "\n",
        "tetramers = {}\n",
        "for key, value in raw_tetramers.items():\n",
        "  if value not in tetramers.values():\n",
        "    tetramers[key] = value\n",
        "\n",
        "print(tetramers)\n",
        "print(len(tetramers))"
      ],
      "execution_count": 0,
      "outputs": [
        {
          "output_type": "stream",
          "text": [
            "{'400': 4106.3621, '410': 4148.3989, '401': 4064.3253, '411': 4106.3621, '420': 4190.4357, '421': 4148.3989, '402': 4022.2885, '412': 4064.3253, '430': 4232.4725, '431': 4190.4357, '403': 3980.2517, '413': 4022.2885, '440': 4274.5093, '441': 4232.4725, '404': 3938.2149, '414': 3980.2517}\n",
            "16\n",
            "{'400': 4106.3621, '410': 4148.3989, '401': 4064.3253, '420': 4190.4357, '402': 4022.2885, '430': 4232.4725, '403': 3980.2517, '440': 4274.5093, '404': 3938.2149}\n",
            "9\n"
          ],
          "name": "stdout"
        }
      ]
    },
    {
      "cell_type": "markdown",
      "metadata": {
        "id": "SR1mT8ngyW-K",
        "colab_type": "text"
      },
      "source": [
        "Create a dictionary for pentamers"
      ]
    },
    {
      "cell_type": "code",
      "metadata": {
        "id": "Zsia7p4EybCN",
        "colab_type": "code",
        "outputId": "7e9ab294-fea0-405f-dc41-dd48dcdc1f05",
        "colab": {
          "base_uri": "https://localhost:8080/",
          "height": 105
        }
      },
      "source": [
        "raw_pentamers = {}\n",
        "for key1, value1 in tetramers.items():\n",
        "  for key2, value2 in blocks.items():\n",
        "    new_key = str(int(key1)+int(key2))\n",
        "    new_value = round(value1+value2-water, round_pos)\n",
        "    raw_pentamers[new_key] = new_value\n",
        "\n",
        "print(raw_pentamers)\n",
        "print(len(raw_pentamers))\n",
        "\n",
        "pentamers = {}\n",
        "for key, value in raw_pentamers.items():\n",
        "  if value not in pentamers.values():\n",
        "    pentamers[key] = value\n",
        "\n",
        "print(pentamers)\n",
        "print(len(pentamers))"
      ],
      "execution_count": 0,
      "outputs": [
        {
          "output_type": "stream",
          "text": [
            "{'500': 5128.4488, '510': 5170.4856, '501': 5086.412, '511': 5128.4488, '520': 5212.5224, '521': 5170.4856, '502': 5044.3752, '512': 5086.412, '530': 5254.5592, '531': 5212.5224, '503': 5002.3384, '513': 5044.3752, '540': 5296.596, '541': 5254.5592, '504': 4960.3016, '514': 5002.3384, '550': 5338.6328, '551': 5296.596, '505': 4918.2648, '515': 4960.3016}\n",
            "20\n",
            "{'500': 5128.4488, '510': 5170.4856, '501': 5086.412, '520': 5212.5224, '502': 5044.3752, '530': 5254.5592, '503': 5002.3384, '540': 5296.596, '504': 4960.3016, '550': 5338.6328, '505': 4918.2648}\n",
            "11\n"
          ],
          "name": "stdout"
        }
      ]
    },
    {
      "cell_type": "markdown",
      "metadata": {
        "id": "lK0ksVp5zZZq",
        "colab_type": "text"
      },
      "source": [
        "Combine monomers, dimers, trimers, tetramers and pentamers as raw final A result"
      ]
    },
    {
      "cell_type": "code",
      "metadata": {
        "id": "PRHViD73znbP",
        "colab_type": "code",
        "outputId": "1fd48f9e-257d-42fc-e6eb-6c8a55946d84",
        "colab": {
          "base_uri": "https://localhost:8080/",
          "height": 71
        }
      },
      "source": [
        "raw_finalA = {}\n",
        "raw_finalA.update(monomers)\n",
        "raw_finalA.update(dimers)\n",
        "raw_finalA.update(trimers)\n",
        "raw_finalA.update(tetramers)\n",
        "raw_finalA.update(pentamers)\n",
        "\n",
        "print(raw_finalA)\n",
        "print(len(raw_finalA))"
      ],
      "execution_count": 0,
      "outputs": [
        {
          "output_type": "stream",
          "text": [
            "{'100': 1040.102, '110': 1082.1388, '101': 998.0652, '200': 2062.1887, '210': 2104.2255, '201': 2020.1519, '220': 2146.2623, '202': 1978.1151, '300': 3084.2754, '310': 3126.3122, '301': 3042.2386, '320': 3168.349, '302': 3000.2018, '330': 3210.3858, '303': 2958.165, '400': 4106.3621, '410': 4148.3989, '401': 4064.3253, '420': 4190.4357, '402': 4022.2885, '430': 4232.4725, '403': 3980.2517, '440': 4274.5093, '404': 3938.2149, '500': 5128.4488, '510': 5170.4856, '501': 5086.412, '520': 5212.5224, '502': 5044.3752, '530': 5254.5592, '503': 5002.3384, '540': 5296.596, '504': 4960.3016, '550': 5338.6328, '505': 4918.2648}\n",
            "35\n"
          ],
          "name": "stdout"
        }
      ]
    },
    {
      "cell_type": "markdown",
      "metadata": {
        "id": "SN8aBQ5i1CtP",
        "colab_type": "text"
      },
      "source": [
        "Account for removing (R) alanine bridge for the first monomer\n",
        "\n",
        "'R' for removed, 'N' for not removed"
      ]
    },
    {
      "cell_type": "code",
      "metadata": {
        "id": "IGGFoYLx1joi",
        "colab_type": "code",
        "outputId": "0ab6acc3-8000-4a2b-cf59-d477790ea6b6",
        "colab": {
          "base_uri": "https://localhost:8080/",
          "height": 71
        }
      },
      "source": [
        "raw_finalB = {}\n",
        "for key, value in raw_finalA.items():\n",
        "  new_key_N = key + 'N'\n",
        "  new_value_N = value\n",
        "  raw_finalB[new_key_N] = new_value_N\n",
        "  new_key_R = key + 'R'\n",
        "  new_value_R = round(value-ala_bridge+water, round_pos)\n",
        "  raw_finalB[new_key_R] = new_value_R\n",
        "\n",
        "print(raw_finalB)\n",
        "print(len(raw_finalB)) "
      ],
      "execution_count": 0,
      "outputs": [
        {
          "output_type": "stream",
          "text": [
            "{'100N': 1040.102, '100R': 897.9459, '110N': 1082.1388, '110R': 939.9827, '101N': 998.0652, '101R': 855.9091, '200N': 2062.1887, '200R': 1920.0326, '210N': 2104.2255, '210R': 1962.0694, '201N': 2020.1519, '201R': 1877.9958, '220N': 2146.2623, '220R': 2004.1062, '202N': 1978.1151, '202R': 1835.959, '300N': 3084.2754, '300R': 2942.1193, '310N': 3126.3122, '310R': 2984.1561, '301N': 3042.2386, '301R': 2900.0825, '320N': 3168.349, '320R': 3026.1929, '302N': 3000.2018, '302R': 2858.0457, '330N': 3210.3858, '330R': 3068.2297, '303N': 2958.165, '303R': 2816.0089, '400N': 4106.3621, '400R': 3964.206, '410N': 4148.3989, '410R': 4006.2428, '401N': 4064.3253, '401R': 3922.1692, '420N': 4190.4357, '420R': 4048.2796, '402N': 4022.2885, '402R': 3880.1324, '430N': 4232.4725, '430R': 4090.3164, '403N': 3980.2517, '403R': 3838.0956, '440N': 4274.5093, '440R': 4132.3532, '404N': 3938.2149, '404R': 3796.0588, '500N': 5128.4488, '500R': 4986.2927, '510N': 5170.4856, '510R': 5028.3295, '501N': 5086.412, '501R': 4944.2559, '520N': 5212.5224, '520R': 5070.3663, '502N': 5044.3752, '502R': 4902.2191, '530N': 5254.5592, '530R': 5112.4031, '503N': 5002.3384, '503R': 4860.1823, '540N': 5296.596, '540R': 5154.4399, '504N': 4960.3016, '504R': 4818.1455, '550N': 5338.6328, '550R': 5196.4767, '505N': 4918.2648, '505R': 4776.1087}\n",
            "70\n"
          ],
          "name": "stdout"
        }
      ]
    },
    {
      "cell_type": "markdown",
      "metadata": {
        "id": "2fybN_sI3clX",
        "colab_type": "text"
      },
      "source": [
        "Account for adding(+), removing(-) amino acids for the last monomer\n",
        "\n",
        "'+' for 5 aa, '0‘ for 4 aa, '-' for 3 aa"
      ]
    },
    {
      "cell_type": "code",
      "metadata": {
        "id": "PrzPfQuH3779",
        "colab_type": "code",
        "outputId": "bb309355-a943-4965-eef4-71790265af6c",
        "colab": {
          "base_uri": "https://localhost:8080/",
          "height": 71
        }
      },
      "source": [
        "final = {}\n",
        "for key, value in raw_finalB.items():\n",
        "  new_key_0 = key + '0'\n",
        "  new_value_0 = value\n",
        "  final[new_key_0] = new_value_0\n",
        "  new_key_P = key + '+'\n",
        "  new_value_P = round(value+alanine-water, round_pos)\n",
        "  final[new_key_P] = new_value_P\n",
        "  new_key_M = key + '-'\n",
        "  new_value_M = round(value-alanine+water, round_pos)\n",
        "  final[new_key_M] = new_value_M\n",
        "\n",
        "print(final)\n",
        "print(len(final))"
      ],
      "execution_count": 0,
      "outputs": [
        {
          "output_type": "stream",
          "text": [
            "{'100N0': 1040.102, '100N+': 1111.1801, '100N-': 969.0239, '100R0': 897.9459, '100R+': 969.024, '100R-': 826.8678, '110N0': 1082.1388, '110N+': 1153.2169, '110N-': 1011.0607, '110R0': 939.9827, '110R+': 1011.0608, '110R-': 868.9046, '101N0': 998.0652, '101N+': 1069.1433, '101N-': 926.9871, '101R0': 855.9091, '101R+': 926.9872, '101R-': 784.831, '200N0': 2062.1887, '200N+': 2133.2668, '200N-': 1991.1106, '200R0': 1920.0326, '200R+': 1991.1107, '200R-': 1848.9545, '210N0': 2104.2255, '210N+': 2175.3036, '210N-': 2033.1474, '210R0': 1962.0694, '210R+': 2033.1475, '210R-': 1890.9913, '201N0': 2020.1519, '201N+': 2091.23, '201N-': 1949.0738, '201R0': 1877.9958, '201R+': 1949.0739, '201R-': 1806.9177, '220N0': 2146.2623, '220N+': 2217.3404, '220N-': 2075.1842, '220R0': 2004.1062, '220R+': 2075.1843, '220R-': 1933.0281, '202N0': 1978.1151, '202N+': 2049.1932, '202N-': 1907.037, '202R0': 1835.959, '202R+': 1907.0371, '202R-': 1764.8809, '300N0': 3084.2754, '300N+': 3155.3535, '300N-': 3013.1973, '300R0': 2942.1193, '300R+': 3013.1974, '300R-': 2871.0412, '310N0': 3126.3122, '310N+': 3197.3903, '310N-': 3055.2341, '310R0': 2984.1561, '310R+': 3055.2342, '310R-': 2913.078, '301N0': 3042.2386, '301N+': 3113.3167, '301N-': 2971.1605, '301R0': 2900.0825, '301R+': 2971.1606, '301R-': 2829.0044, '320N0': 3168.349, '320N+': 3239.4271, '320N-': 3097.2709, '320R0': 3026.1929, '320R+': 3097.271, '320R-': 2955.1148, '302N0': 3000.2018, '302N+': 3071.2799, '302N-': 2929.1237, '302R0': 2858.0457, '302R+': 2929.1238, '302R-': 2786.9676, '330N0': 3210.3858, '330N+': 3281.4639, '330N-': 3139.3077, '330R0': 3068.2297, '330R+': 3139.3078, '330R-': 2997.1516, '303N0': 2958.165, '303N+': 3029.2431, '303N-': 2887.0869, '303R0': 2816.0089, '303R+': 2887.087, '303R-': 2744.9308, '400N0': 4106.3621, '400N+': 4177.4402, '400N-': 4035.284, '400R0': 3964.206, '400R+': 4035.2841, '400R-': 3893.1279, '410N0': 4148.3989, '410N+': 4219.477, '410N-': 4077.3208, '410R0': 4006.2428, '410R+': 4077.3209, '410R-': 3935.1647, '401N0': 4064.3253, '401N+': 4135.4034, '401N-': 3993.2472, '401R0': 3922.1692, '401R+': 3993.2473, '401R-': 3851.0911, '420N0': 4190.4357, '420N+': 4261.5138, '420N-': 4119.3576, '420R0': 4048.2796, '420R+': 4119.3577, '420R-': 3977.2015, '402N0': 4022.2885, '402N+': 4093.3666, '402N-': 3951.2104, '402R0': 3880.1324, '402R+': 3951.2105, '402R-': 3809.0543, '430N0': 4232.4725, '430N+': 4303.5506, '430N-': 4161.3944, '430R0': 4090.3164, '430R+': 4161.3945, '430R-': 4019.2383, '403N0': 3980.2517, '403N+': 4051.3298, '403N-': 3909.1736, '403R0': 3838.0956, '403R+': 3909.1737, '403R-': 3767.0175, '440N0': 4274.5093, '440N+': 4345.5874, '440N-': 4203.4312, '440R0': 4132.3532, '440R+': 4203.4313, '440R-': 4061.2751, '404N0': 3938.2149, '404N+': 4009.293, '404N-': 3867.1368, '404R0': 3796.0588, '404R+': 3867.1369, '404R-': 3724.9807, '500N0': 5128.4488, '500N+': 5199.5269, '500N-': 5057.3707, '500R0': 4986.2927, '500R+': 5057.3708, '500R-': 4915.2146, '510N0': 5170.4856, '510N+': 5241.5637, '510N-': 5099.4075, '510R0': 5028.3295, '510R+': 5099.4076, '510R-': 4957.2514, '501N0': 5086.412, '501N+': 5157.4901, '501N-': 5015.3339, '501R0': 4944.2559, '501R+': 5015.334, '501R-': 4873.1778, '520N0': 5212.5224, '520N+': 5283.6005, '520N-': 5141.4443, '520R0': 5070.3663, '520R+': 5141.4444, '520R-': 4999.2882, '502N0': 5044.3752, '502N+': 5115.4533, '502N-': 4973.2971, '502R0': 4902.2191, '502R+': 4973.2972, '502R-': 4831.141, '530N0': 5254.5592, '530N+': 5325.6373, '530N-': 5183.4811, '530R0': 5112.4031, '530R+': 5183.4812, '530R-': 5041.325, '503N0': 5002.3384, '503N+': 5073.4165, '503N-': 4931.2603, '503R0': 4860.1823, '503R+': 4931.2604, '503R-': 4789.1042, '540N0': 5296.596, '540N+': 5367.6741, '540N-': 5225.5179, '540R0': 5154.4399, '540R+': 5225.518, '540R-': 5083.3618, '504N0': 4960.3016, '504N+': 5031.3797, '504N-': 4889.2235, '504R0': 4818.1455, '504R+': 4889.2236, '504R-': 4747.0674, '550N0': 5338.6328, '550N+': 5409.7109, '550N-': 5267.5547, '550R0': 5196.4767, '550R+': 5267.5548, '550R-': 5125.3986, '505N0': 4918.2648, '505N+': 4989.3429, '505N-': 4847.1867, '505R0': 4776.1087, '505R+': 4847.1868, '505R-': 4705.0306}\n",
            "210\n"
          ],
          "name": "stdout"
        }
      ]
    },
    {
      "cell_type": "markdown",
      "metadata": {
        "id": "_KY4D2ti5xl7",
        "colab_type": "text"
      },
      "source": [
        "Output the final list as a CSV file"
      ]
    },
    {
      "cell_type": "code",
      "metadata": {
        "id": "U90fFgAT50fg",
        "colab_type": "code",
        "colab": {}
      },
      "source": [
        "import csv\n",
        "with open('list.csv', 'w') as f:\n",
        "  f.write(\"Index, Property, Molecular weight\\n\")\n",
        "  i = 1\n",
        "  for key in final.keys():\n",
        "    f.write(\"%d,%s,%s\\n\"%(i, key, final[key]))\n",
        "    i = i+1"
      ],
      "execution_count": 0,
      "outputs": []
    },
    {
      "cell_type": "markdown",
      "metadata": {
        "id": "DqgoDA-S7xNF",
        "colab_type": "text"
      },
      "source": [
        "Download the output file from Google Colab workspace"
      ]
    },
    {
      "cell_type": "code",
      "metadata": {
        "id": "jIvxoi0b6oL1",
        "colab_type": "code",
        "outputId": "4b20c94d-02ad-4a90-aa65-d06984a9ecf0",
        "colab": {
          "base_uri": "https://localhost:8080/",
          "height": 34
        }
      },
      "source": [
        "!ls\n",
        "from google.colab import files\n",
        "files.download('list.csv') "
      ],
      "execution_count": 0,
      "outputs": [
        {
          "output_type": "stream",
          "text": [
            "list.csv  sample_data\n"
          ],
          "name": "stdout"
        }
      ]
    }
  ]
}