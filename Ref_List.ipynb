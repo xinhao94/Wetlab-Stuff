{
  "nbformat": 4,
  "nbformat_minor": 0,
  "metadata": {
    "colab": {
      "name": "Ref List.ipynb",
      "provenance": [],
      "collapsed_sections": []
    },
    "kernelspec": {
      "name": "python3",
      "display_name": "Python 3"
    }
  },
  "cells": [
    {
      "cell_type": "markdown",
      "metadata": {
        "id": "MsdGKFopmXWM",
        "colab_type": "text"
      },
      "source": [
        "Create a dictionary for the building block \n",
        "\n",
        "Key(Modification)-Value(Molecular weight) \n",
        "\n",
        "Key (e.g. 100) -> 1 block, 0 O-acetylation, 0 N-deacetylation "
      ]
    },
    {
      "cell_type": "code",
      "metadata": {
        "id": "aLIpnL8xmQp5",
        "colab_type": "code",
        "colab": {}
      },
      "source": [
        "blocks = {'100':1040.101994, '110':1082.138752, '101':998.065235, '111':1040.101994}\n",
        "water = 18.015291\n",
        "alanine = 89.093346\n",
        "ala_bridge = 2*alanine - water\n",
        "thres = 0.05\n",
        "round_pos = 4"
      ],
      "execution_count": 0,
      "outputs": []
    },
    {
      "cell_type": "markdown",
      "metadata": {
        "id": "08S3G65ysoCx",
        "colab_type": "text"
      },
      "source": [
        "Create a dictionary for monomers\n",
        "\n",
        "Eliminate duplicate values"
      ]
    },
    {
      "cell_type": "code",
      "metadata": {
        "id": "6vLIYv9qsmYx",
        "colab_type": "code",
        "colab": {}
      },
      "source": [
        "monomers = {}\n",
        "for key, value in blocks.items():\n",
        "  new_key = key\n",
        "  new_value = round(value, round_pos)\n",
        "  if new_value not in monomers.values():\n",
        "    monomers[new_key] = new_value\n",
        "\n",
        "print(monomers)\n",
        "print(len(monomers))"
      ],
      "execution_count": 0,
      "outputs": []
    },
    {
      "cell_type": "markdown",
      "metadata": {
        "id": "P8ITpWi5qW17",
        "colab_type": "text"
      },
      "source": [
        "Create a dictionary for dimers"
      ]
    },
    {
      "cell_type": "code",
      "metadata": {
        "id": "txSR9TW2qcJa",
        "colab_type": "code",
        "colab": {}
      },
      "source": [
        "raw_dimers = {}\n",
        "for key1, value1 in monomers.items():\n",
        "  for key2, value2 in blocks.items():\n",
        "    new_key = str(int(key1)+int(key2))\n",
        "    new_value = round(value1+value2-water, round_pos)\n",
        "    raw_dimers[new_key] = new_value\n",
        "\n",
        "print(raw_dimers)\n",
        "print(len(raw_dimers))\n",
        "\n",
        "dimers = {}\n",
        "for key, value in raw_dimers.items():\n",
        "  if value not in dimers.values():\n",
        "        dimers[key] = value\n",
        "\n",
        "print(dimers)\n",
        "print(len(dimers))"
      ],
      "execution_count": 0,
      "outputs": []
    },
    {
      "cell_type": "markdown",
      "metadata": {
        "id": "Cu9EKxhDv3ai",
        "colab_type": "text"
      },
      "source": [
        "Create a dictionary for trimers"
      ]
    },
    {
      "cell_type": "code",
      "metadata": {
        "id": "HmGNp5FAv7T6",
        "colab_type": "code",
        "colab": {}
      },
      "source": [
        "raw_trimers = {}\n",
        "for key1, value1 in dimers.items():\n",
        "  for key2, value2 in blocks.items():\n",
        "    new_key = str(int(key1)+int(key2))\n",
        "    new_value = round(value1+value2-water, round_pos)\n",
        "    raw_trimers[new_key] = new_value\n",
        "\n",
        "print(raw_trimers)\n",
        "print(len(raw_trimers))\n",
        "\n",
        "trimers = {}\n",
        "for key, value in raw_trimers.items():\n",
        "  if value not in trimers.values():\n",
        "    trimers[key] = value\n",
        "\n",
        "print(trimers)\n",
        "print(len(trimers))"
      ],
      "execution_count": 0,
      "outputs": []
    },
    {
      "cell_type": "markdown",
      "metadata": {
        "id": "WkSNCHQJxgsj",
        "colab_type": "text"
      },
      "source": [
        "Create a dictionary for tetramers"
      ]
    },
    {
      "cell_type": "code",
      "metadata": {
        "id": "vFRkh8vcxc3u",
        "colab_type": "code",
        "colab": {}
      },
      "source": [
        "raw_tetramers = {}\n",
        "for key1, value1 in trimers.items():\n",
        "  for key2, value2 in blocks.items():\n",
        "    new_key = str(int(key1)+int(key2))\n",
        "    new_value = round(value1+value2-water, round_pos)\n",
        "    raw_tetramers[new_key] = new_value\n",
        "\n",
        "print(raw_tetramers)\n",
        "print(len(raw_tetramers))\n",
        "\n",
        "tetramers = {}\n",
        "for key, value in raw_tetramers.items():\n",
        "  if value not in tetramers.values():\n",
        "    tetramers[key] = value\n",
        "\n",
        "print(tetramers)\n",
        "print(len(tetramers))"
      ],
      "execution_count": 0,
      "outputs": []
    },
    {
      "cell_type": "markdown",
      "metadata": {
        "id": "SR1mT8ngyW-K",
        "colab_type": "text"
      },
      "source": [
        "Create a dictionary for pentamers"
      ]
    },
    {
      "cell_type": "code",
      "metadata": {
        "id": "Zsia7p4EybCN",
        "colab_type": "code",
        "colab": {}
      },
      "source": [
        "raw_pentamers = {}\n",
        "for key1, value1 in tetramers.items():\n",
        "  for key2, value2 in blocks.items():\n",
        "    new_key = str(int(key1)+int(key2))\n",
        "    new_value = round(value1+value2-water, round_pos)\n",
        "    raw_pentamers[new_key] = new_value\n",
        "\n",
        "print(raw_pentamers)\n",
        "print(len(raw_pentamers))\n",
        "\n",
        "pentamers = {}\n",
        "for key, value in raw_pentamers.items():\n",
        "  if value not in pentamers.values():\n",
        "    pentamers[key] = value\n",
        "\n",
        "print(pentamers)\n",
        "print(len(pentamers))"
      ],
      "execution_count": 0,
      "outputs": []
    },
    {
      "cell_type": "markdown",
      "metadata": {
        "id": "lK0ksVp5zZZq",
        "colab_type": "text"
      },
      "source": [
        "Combine monomers, dimers, trimers, tetramers and pentamers as raw final A result"
      ]
    },
    {
      "cell_type": "code",
      "metadata": {
        "id": "PRHViD73znbP",
        "colab_type": "code",
        "colab": {}
      },
      "source": [
        "raw_finalA = {}\n",
        "raw_finalA.update(monomers)\n",
        "raw_finalA.update(dimers)\n",
        "raw_finalA.update(trimers)\n",
        "raw_finalA.update(tetramers)\n",
        "raw_finalA.update(pentamers)\n",
        "\n",
        "print(raw_finalA)\n",
        "print(len(raw_finalA))"
      ],
      "execution_count": 0,
      "outputs": []
    },
    {
      "cell_type": "markdown",
      "metadata": {
        "id": "SN8aBQ5i1CtP",
        "colab_type": "text"
      },
      "source": [
        "Account for removing (R) alanine bridge for the first monomer\n",
        "\n",
        "'R' for removed, 'N' for not removed"
      ]
    },
    {
      "cell_type": "code",
      "metadata": {
        "id": "IGGFoYLx1joi",
        "colab_type": "code",
        "colab": {}
      },
      "source": [
        "raw_finalB = {}\n",
        "for key, value in raw_finalA.items():\n",
        "  new_key_N = key + 'N'\n",
        "  new_value_N = value\n",
        "  raw_finalB[new_key_N] = new_value_N\n",
        "  new_key_R = key + 'R'\n",
        "  new_value_R = round(value-ala_bridge+water, round_pos)\n",
        "  raw_finalB[new_key_R] = new_value_R\n",
        "\n",
        "print(raw_finalB)\n",
        "print(len(raw_finalB)) "
      ],
      "execution_count": 0,
      "outputs": []
    },
    {
      "cell_type": "markdown",
      "metadata": {
        "id": "2fybN_sI3clX",
        "colab_type": "text"
      },
      "source": [
        "Account for adding(+), removing(-) amino acids for the last monomer\n",
        "\n",
        "'+' for 5 aa, '0‘ for 4 aa, '-' for 3 aa"
      ]
    },
    {
      "cell_type": "code",
      "metadata": {
        "id": "PrzPfQuH3779",
        "colab_type": "code",
        "colab": {}
      },
      "source": [
        "final = {}\n",
        "for key, value in raw_finalB.items():\n",
        "  new_key_0 = key + '0'\n",
        "  new_value_0 = value\n",
        "  final[new_key_0] = new_value_0\n",
        "  new_key_P = key + '+'\n",
        "  new_value_P = round(value+alanine-water, round_pos)\n",
        "  final[new_key_P] = new_value_P\n",
        "  new_key_M = key + '-'\n",
        "  new_value_M = round(value-alanine+water, round_pos)\n",
        "  final[new_key_M] = new_value_M\n",
        "\n",
        "print(final)\n",
        "print(len(final))"
      ],
      "execution_count": 0,
      "outputs": []
    },
    {
      "cell_type": "markdown",
      "metadata": {
        "id": "_KY4D2ti5xl7",
        "colab_type": "text"
      },
      "source": [
        "Output the final list as a CSV file"
      ]
    },
    {
      "cell_type": "code",
      "metadata": {
        "id": "U90fFgAT50fg",
        "colab_type": "code",
        "colab": {}
      },
      "source": [
        "import csv\n",
        "with open('list.csv', 'w') as f:\n",
        "  f.write(\"Index, Property, Molecular weight\\n\")\n",
        "  i = 1\n",
        "  for key in final.keys():\n",
        "    f.write(\"%d,%s,%s\\n\"%(i, key, final[key]))\n",
        "    i = i+1"
      ],
      "execution_count": 0,
      "outputs": []
    },
    {
      "cell_type": "markdown",
      "metadata": {
        "id": "DqgoDA-S7xNF",
        "colab_type": "text"
      },
      "source": [
        "Download the output file from Google Colab workspace"
      ]
    },
    {
      "cell_type": "code",
      "metadata": {
        "id": "jIvxoi0b6oL1",
        "colab_type": "code",
        "colab": {}
      },
      "source": [
        "!ls\n",
        "from google.colab import files\n",
        "files.download('list.csv') "
      ],
      "execution_count": 0,
      "outputs": []
    }
  ]
}