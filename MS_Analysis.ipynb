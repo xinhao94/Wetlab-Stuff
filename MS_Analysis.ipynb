{
  "nbformat": 4,
  "nbformat_minor": 0,
  "metadata": {
    "colab": {
      "name": "MS Analysis.ipynb",
      "provenance": []
    },
    "kernelspec": {
      "name": "python3",
      "display_name": "Python 3"
    }
  },
  "cells": [
    {
      "cell_type": "markdown",
      "metadata": {
        "id": "UkiBbuaMyxf7",
        "colab_type": "text"
      },
      "source": [
        "Upload the reference list and the raw data onto Google Colab workspace"
      ]
    },
    {
      "cell_type": "code",
      "metadata": {
        "id": "QZ4bWKfVywNp",
        "colab_type": "code",
        "colab": {}
      },
      "source": [
        "!ls\n",
        "from google.colab import files\n",
        "files.upload()"
      ],
      "execution_count": 0,
      "outputs": []
    },
    {
      "cell_type": "markdown",
      "metadata": {
        "id": "D8ctvnisztTk",
        "colab_type": "text"
      },
      "source": [
        "Verify uploading"
      ]
    },
    {
      "cell_type": "code",
      "metadata": {
        "id": "w7ngXj78zb4Y",
        "colab_type": "code",
        "colab": {}
      },
      "source": [
        "!ls"
      ],
      "execution_count": 0,
      "outputs": []
    },
    {
      "cell_type": "markdown",
      "metadata": {
        "id": "9kDD_RRszxqM",
        "colab_type": "text"
      },
      "source": [
        "Convert CSV file for the ref list to dictionary"
      ]
    },
    {
      "cell_type": "code",
      "metadata": {
        "id": "5npzCzW6z0K-",
        "colab_type": "code",
        "colab": {}
      },
      "source": [
        "import csv\n",
        "ref_list_name = 'ref.csv'\n",
        "\n",
        "ref = {}\n",
        "\n",
        "with open(ref_list_name, newline='') as csvfile:\n",
        "  mycsv = csv.reader(csvfile)\n",
        "  # Skip the header\n",
        "  next(mycsv)\n",
        "  for row in mycsv:\n",
        "    new_key = row[1]\n",
        "    new_value = float(row[2])\n",
        "    ref[new_key] = new_value\n",
        "\n",
        "print(len(ref))"
      ],
      "execution_count": 0,
      "outputs": []
    },
    {
      "cell_type": "markdown",
      "metadata": {
        "id": "12BnGa-E41e9",
        "colab_type": "text"
      },
      "source": [
        "Convert CSV file for the raw data to list"
      ]
    },
    {
      "cell_type": "code",
      "metadata": {
        "id": "13eg-gmR46a_",
        "colab_type": "code",
        "colab": {}
      },
      "source": [
        "raw_data_name = 'P60.csv'\n",
        "\n",
        "raw = []\n",
        "\n",
        "with open(raw_data_name, newline='') as csvfile:\n",
        "  mycsv = csv.reader(csvfile)\n",
        "  # Skip the header\n",
        "  next(mycsv)\n",
        "  for row in mycsv:\n",
        "    new_value = float(row[0])\n",
        "    raw.append(new_value)\n",
        "\n",
        "print(len(raw))"
      ],
      "execution_count": 0,
      "outputs": []
    },
    {
      "cell_type": "markdown",
      "metadata": {
        "id": "evcRNuYCPEO2",
        "colab_type": "text"
      },
      "source": [
        "Implement the analysis"
      ]
    },
    {
      "cell_type": "code",
      "metadata": {
        "id": "vIyhCDOQLoul",
        "colab_type": "code",
        "colab": {}
      },
      "source": [
        "# Set threshold as needed\n",
        "thres = 0.5\n",
        "analysis = {}\n",
        "\n",
        "# Iterate through all elements in raw data\n",
        "for i in range(len(raw)):\n",
        "  curr = raw[i]\n",
        "  # Print progress every 1000 elements\n",
        "  if i%1000==0:\n",
        "    print(i)\n",
        "  # Compare the current elements with all elements in the reference\n",
        "  for key, value in ref.items():\n",
        "    # If the difference is less than threshold\n",
        "    if abs(curr-value)<=thres:\n",
        "      # If the key has never been recorded, record it\n",
        "      if key not in analysis.keys():\n",
        "        analysis[key] = 1\n",
        "      # If the key has been recorder, update the counter\n",
        "      else:\n",
        "        analysis[key] = analysis[key] + 1\n",
        "    # If the difference is more than threshold, compare the next\n",
        "    else:\n",
        "      continue\n",
        "\n",
        "print(analysis)"
      ],
      "execution_count": 0,
      "outputs": []
    },
    {
      "cell_type": "markdown",
      "metadata": {
        "id": "wQGNGvxYQKE9",
        "colab_type": "text"
      },
      "source": [
        "Export the result as a csv file"
      ]
    },
    {
      "cell_type": "code",
      "metadata": {
        "id": "OVRMHm-MNocj",
        "colab_type": "code",
        "colab": {}
      },
      "source": [
        "root_name = raw_data_name.split('.')[0]\n",
        "output_file_name = root_name+'_analysis.csv'\n",
        "\n",
        "with open(output_file_name, 'w') as f:\n",
        "  f.write(\"Index, Property, Hit count\\n\")\n",
        "  i = 1\n",
        "  for key in analysis.keys():\n",
        "    f.write(\"%d,%s,%s\\n\"%(i, key, analysis[key]))\n",
        "    i = i+1\n",
        "\n"
      ],
      "execution_count": 0,
      "outputs": []
    },
    {
      "cell_type": "markdown",
      "metadata": {
        "id": "aL9hMfXORCkA",
        "colab_type": "text"
      },
      "source": [
        "Download the output file"
      ]
    },
    {
      "cell_type": "code",
      "metadata": {
        "id": "LoXyuBmhRB8H",
        "colab_type": "code",
        "colab": {}
      },
      "source": [
        "!ls\n",
        "files.download(output_file_name) "
      ],
      "execution_count": 0,
      "outputs": []
    }
  ]
}