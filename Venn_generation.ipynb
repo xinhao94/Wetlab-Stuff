{
  "nbformat": 4,
  "nbformat_minor": 0,
  "metadata": {
    "colab": {
      "name": "Venn generation.ipynb",
      "provenance": []
    },
    "kernelspec": {
      "name": "python3",
      "display_name": "Python 3"
    }
  },
  "cells": [
    {
      "cell_type": "markdown",
      "metadata": {
        "id": "xjLzHFJ7xJkB",
        "colab_type": "text"
      },
      "source": [
        "Upload the raw results onto Google Colab workspace"
      ]
    },
    {
      "cell_type": "code",
      "metadata": {
        "id": "gdizPIyEw8im",
        "colab_type": "code",
        "colab": {}
      },
      "source": [
        "!ls\n",
        "from google.colab import files\n",
        "files.upload()"
      ],
      "execution_count": 0,
      "outputs": []
    },
    {
      "cell_type": "markdown",
      "metadata": {
        "id": "f8reKEbLxiW3",
        "colab_type": "text"
      },
      "source": [
        "Install necessary packages"
      ]
    },
    {
      "cell_type": "code",
      "metadata": {
        "id": "Ukfo-aGFxcDm",
        "colab_type": "code",
        "colab": {}
      },
      "source": [
        "!pip install numpy"
      ],
      "execution_count": 0,
      "outputs": []
    },
    {
      "cell_type": "code",
      "metadata": {
        "id": "NzmkUgflxqjw",
        "colab_type": "code",
        "colab": {}
      },
      "source": [
        "!pip install scipy"
      ],
      "execution_count": 0,
      "outputs": []
    },
    {
      "cell_type": "code",
      "metadata": {
        "id": "Yvww2-t3xuAQ",
        "colab_type": "code",
        "colab": {}
      },
      "source": [
        "!pip install matplotlib"
      ],
      "execution_count": 0,
      "outputs": []
    },
    {
      "cell_type": "code",
      "metadata": {
        "id": "MuLp8D9CxyQJ",
        "colab_type": "code",
        "colab": {}
      },
      "source": [
        "!pip install matplotlib-venn"
      ],
      "execution_count": 0,
      "outputs": []
    },
    {
      "cell_type": "markdown",
      "metadata": {
        "id": "FXyE_SPNx3_O",
        "colab_type": "text"
      },
      "source": [
        "Convert analysis result into set"
      ]
    },
    {
      "cell_type": "code",
      "metadata": {
        "id": "2hiruAqRx5jT",
        "colab_type": "code",
        "colab": {}
      },
      "source": [
        "import csv\n",
        "\n",
        "# Edit the files to be analyzed here\n",
        "filenames = ['anc_analysis.csv', 'P8_analysis.csv', 'P60_analysis.csv']\n",
        "anc = []\n",
        "p8 = []\n",
        "p60 = []\n",
        "comb = [anc, p8, p60]\n",
        "\n",
        "for i in range(3):\n",
        "  with open(filenames[i], newline='') as f:\n",
        "    mycsv = csv.reader(f)\n",
        "    # Skip the header\n",
        "    next(mycsv)\n",
        "    for row in mycsv:\n",
        "      new_value = row[1]\n",
        "      comb[i].append(new_value)\n",
        "    print(filenames[i])\n",
        "    print(len(comb[i]))\n",
        "\n",
        "# Convert lists into sets\n",
        "anc = set(comb[0])\n",
        "p8 = set(comb[1])\n",
        "p60 = set(comb[2])"
      ],
      "execution_count": 0,
      "outputs": []
    },
    {
      "cell_type": "markdown",
      "metadata": {
        "id": "k-dS_ds71-Dr",
        "colab_type": "text"
      },
      "source": [
        "Place holder"
      ]
    },
    {
      "cell_type": "code",
      "metadata": {
        "id": "qXbismOo19wt",
        "colab_type": "code",
        "colab": {}
      },
      "source": [
        "from matplotlib import pyplot as plt\n",
        "from matplotlib_venn import venn3\n",
        "\n",
        "venn3([anc, p8, p60], ('Ancestor', 'P8', 'P60'))\n",
        "plt.show()"
      ],
      "execution_count": 0,
      "outputs": []
    },
    {
      "cell_type": "markdown",
      "metadata": {
        "id": "DF8gE-sO4geq",
        "colab_type": "text"
      },
      "source": [
        "Take a look at the intesection of any combination of sets"
      ]
    },
    {
      "cell_type": "code",
      "metadata": {
        "id": "o_n_Pm6_3O0C",
        "colab_type": "code",
        "colab": {}
      },
      "source": [
        "# This is an example of how to show the intersection of three sets\n",
        "a86 = anc & p8 & p60\n",
        "print(len(a86))\n",
        "print(a86)"
      ],
      "execution_count": 0,
      "outputs": []
    }
  ]
}