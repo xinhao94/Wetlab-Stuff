{
  "nbformat": 4,
  "nbformat_minor": 0,
  "metadata": {
    "colab": {
      "name": "Ref List v2.ipynb",
      "provenance": [],
      "collapsed_sections": []
    },
    "kernelspec": {
      "name": "python3",
      "display_name": "Python 3"
    }
  },
  "cells": [
    {
      "cell_type": "markdown",
      "metadata": {
        "id": "5e48cOZRlZRh",
        "colab_type": "text"
      },
      "source": [
        "Create a dictionary for the building block \n",
        "\n",
        "Key(Modification)-Value(Molecular weight) \n",
        "\n",
        "Key (e.g. 100) -> 1 block, 0 O-acetylation, 0 N-deacetylation \n",
        "\n",
        "For combination of *D*-*iso*-glutamine and *D*-aspartic acid"
      ]
    },
    {
      "cell_type": "code",
      "metadata": {
        "id": "akH-by7vlUt1",
        "colab_type": "code",
        "colab": {}
      },
      "source": [
        "combi_code = {0:'AspGln', 1:'AspGlu', 2:'AsnGln', 3:'AsnGlu'}\n",
        "blocks_set = [{}, {}, {}, {}]\n",
        "# Bridge: Asp, peptide: Gln, code = 0\n",
        "blocks_set[0] = {'100':1009.4452, '110':1051.4557, '101':967.4346, '111':1009.4452}\n",
        "# Bridge: Asp, peptide: Glu, code = 1\n",
        "blocks_set[1] = {'100':1010.4292, '110':1052.4397, '101':968.4186, '111':1010.4292}\n",
        "# Bridge: Asn, peptide: Gln, code = 2\n",
        "blocks_set[2] = {'100':1008.4611, '110':1050.4717, '101':966.4506, '111':1008.4611}\n",
        "# Bridge: Asn, peptide: Glu, code = 3\n",
        "blocks_set[3] = {'100':1009.4452, '110':1051.4557, '101':967.4346, '111':1009.4452}\n",
        "\n",
        "# Choose the combination to work with\n",
        "code = 0\n",
        "blocks = blocks_set[code]\n",
        "\n",
        "water = 18.0106\n",
        "ala = 89.0477\n",
        "lactate = 90.0317\n",
        "asp = 133.0375\n",
        "asn = 132.0535\n",
        "\n",
        "if code == 0 or code == 1:\n",
        "  bridge = asp\n",
        "else:\n",
        "  bridge = asn\n",
        "\n",
        "# Threshold for MS value comparison\n",
        "thres = 0.05\n",
        "# Decimal place for MW calculation\n",
        "round_pos = 4\n",
        "# Threshold for elimination of diplicates\n",
        "criteria = 0.0005"
      ],
      "execution_count": 0,
      "outputs": []
    },
    {
      "cell_type": "markdown",
      "metadata": {
        "id": "FK2-AIvPoil6",
        "colab_type": "text"
      },
      "source": [
        "Create a dictionary for monomers\n",
        "\n",
        "Eliminate duplicate values"
      ]
    },
    {
      "cell_type": "code",
      "metadata": {
        "id": "gIqWzj1wolXv",
        "colab_type": "code",
        "colab": {}
      },
      "source": [
        "monomers = {}\n",
        "for key, value in blocks.items():\n",
        "  new_key = key\n",
        "  new_value = round(value, round_pos)\n",
        "  if new_value not in monomers.values():\n",
        "    monomers[new_key] = new_value\n",
        "\n",
        "print(monomers)\n",
        "print(len(monomers))"
      ],
      "execution_count": 0,
      "outputs": []
    },
    {
      "cell_type": "markdown",
      "metadata": {
        "id": "bZnzA_Gz1WiU",
        "colab_type": "text"
      },
      "source": [
        "Create a dictionary for dimers\n",
        "\n",
        "Eliminate duplicates when difference is less than criteria"
      ]
    },
    {
      "cell_type": "code",
      "metadata": {
        "id": "ZpmTcFNz1Yh_",
        "colab_type": "code",
        "colab": {}
      },
      "source": [
        "raw_dimers = {}\n",
        "for key1, value1 in monomers.items():\n",
        "  for key2, value2 in blocks.items():\n",
        "    new_key = str(int(key1)+int(key2))\n",
        "    new_value = round(value1+value2-water, round_pos)\n",
        "    raw_dimers[new_key] = new_value\n",
        "\n",
        "print(raw_dimers)\n",
        "print(len(raw_dimers))\n",
        "\n",
        "dimers = {}\n",
        "for new_key, new_value in raw_dimers.items():\n",
        "  flag = False\n",
        "  for exist_value in dimers.values():\n",
        "    # As soon as duplicate is detected, break the loop\n",
        "    if abs(new_value-exist_value)<=criteria:\n",
        "      flag = True\n",
        "      break\n",
        "  # If no duplication was detected, add the new pair to dictionary\n",
        "  if flag == False:\n",
        "    dimers[new_key] = new_value\n",
        "    \n",
        "\n",
        "print(dimers)\n",
        "print(len(dimers))"
      ],
      "execution_count": 0,
      "outputs": []
    },
    {
      "cell_type": "markdown",
      "metadata": {
        "id": "yTiSwYPwDaMg",
        "colab_type": "text"
      },
      "source": [
        "Create a dictionary for trimers\n",
        "\n",
        "Eliminate duplicates when difference is less than criteria"
      ]
    },
    {
      "cell_type": "code",
      "metadata": {
        "id": "QSwhj5BhDcpE",
        "colab_type": "code",
        "colab": {}
      },
      "source": [
        "raw_trimers = {}\n",
        "for key1, value1 in dimers.items():\n",
        "  for key2, value2 in blocks.items():\n",
        "    new_key = str(int(key1)+int(key2))\n",
        "    new_value = round(value1+value2-water, round_pos)\n",
        "    raw_trimers[new_key] = new_value\n",
        "\n",
        "print(raw_trimers)\n",
        "print(len(raw_trimers))\n",
        "\n",
        "trimers = {}\n",
        "for new_key, new_value in raw_trimers.items():\n",
        "  flag = False\n",
        "  for exist_value in trimers.values():\n",
        "    # As soon as duplicate is detected, break the loop\n",
        "    if abs(new_value-exist_value)<=criteria:\n",
        "      flag = True\n",
        "      break\n",
        "  # If no duplication was detected, add the new pair to dictionary\n",
        "  if flag == False:\n",
        "    trimers[new_key] = new_value\n",
        "\n",
        "print(trimers)\n",
        "print(len(trimers))"
      ],
      "execution_count": 0,
      "outputs": []
    },
    {
      "cell_type": "markdown",
      "metadata": {
        "id": "rArJ-mJLHJyU",
        "colab_type": "text"
      },
      "source": [
        "Create a dictionary for tetramers\n",
        "\n",
        "Eliminate duplicates when difference is less than criteria"
      ]
    },
    {
      "cell_type": "code",
      "metadata": {
        "id": "BWsxbNyvHPOK",
        "colab_type": "code",
        "colab": {}
      },
      "source": [
        "raw_tetramers = {}\n",
        "for key1, value1 in trimers.items():\n",
        "  for key2, value2 in blocks.items():\n",
        "    new_key = str(int(key1)+int(key2))\n",
        "    new_value = round(value1+value2-water, round_pos)\n",
        "    raw_tetramers[new_key] = new_value\n",
        "\n",
        "print(raw_tetramers)\n",
        "print(len(raw_tetramers))\n",
        "\n",
        "tetramers = {}\n",
        "for new_key, new_value in raw_tetramers.items():\n",
        "  flag = False\n",
        "  for exist_value in tetramers.values():\n",
        "    # As soon as duplicate is detected, break the loop\n",
        "    if abs(new_value-exist_value)<=criteria:\n",
        "      flag = True\n",
        "      break\n",
        "  # If no duplication was detected, add the new pair to dictionary\n",
        "  if flag == False:\n",
        "    tetramers[new_key] = new_value\n",
        "\n",
        "print(tetramers)\n",
        "print(len(tetramers))"
      ],
      "execution_count": 0,
      "outputs": []
    },
    {
      "cell_type": "markdown",
      "metadata": {
        "id": "tU9ge9i9IMHO",
        "colab_type": "text"
      },
      "source": [
        "Create a dictionary for pentamers\n",
        "\n",
        "Eliminate duplicates when difference is less than criteria"
      ]
    },
    {
      "cell_type": "code",
      "metadata": {
        "id": "PZ2JfY8rIRM8",
        "colab_type": "code",
        "colab": {}
      },
      "source": [
        "raw_pentamers = {}\n",
        "for key1, value1 in tetramers.items():\n",
        "  for key2, value2 in blocks.items():\n",
        "    new_key = str(int(key1)+int(key2))\n",
        "    new_value = round(value1+value2-water, round_pos)\n",
        "    raw_pentamers[new_key] = new_value\n",
        "\n",
        "print(raw_pentamers)\n",
        "print(len(raw_pentamers))\n",
        "\n",
        "pentamers = {}\n",
        "for new_key, new_value in raw_pentamers.items():\n",
        "  flag = False\n",
        "  for exist_value in pentamers.values():\n",
        "    # As soon as duplicate is detected, break the loop\n",
        "    if abs(new_value-exist_value)<=criteria:\n",
        "      flag = True\n",
        "      break\n",
        "  # If no duplication was detected, add the new pair to dictionary\n",
        "  if flag == False:\n",
        "    pentamers[new_key] = new_value\n",
        "\n",
        "print(pentamers)\n",
        "print(len(pentamers))"
      ],
      "execution_count": 0,
      "outputs": []
    },
    {
      "cell_type": "markdown",
      "metadata": {
        "id": "LUonOOZbIrRN",
        "colab_type": "text"
      },
      "source": [
        "Combine monomers, dimers, trimers, tetramers and pentamers as list \"Raw Final A\""
      ]
    },
    {
      "cell_type": "code",
      "metadata": {
        "id": "awbVcm8IIwKi",
        "colab_type": "code",
        "colab": {}
      },
      "source": [
        "raw_final_A = {}\n",
        "raw_final_A.update(monomers)\n",
        "raw_final_A.update(dimers)\n",
        "raw_final_A.update(trimers)\n",
        "raw_final_A.update(tetramers)\n",
        "raw_final_A.update(pentamers)\n",
        "\n",
        "print(raw_final_A)\n",
        "print(len(raw_final_A))"
      ],
      "execution_count": 0,
      "outputs": []
    },
    {
      "cell_type": "markdown",
      "metadata": {
        "id": "p4If9xTnKlhW",
        "colab_type": "text"
      },
      "source": [
        "Account for removing (R) asp bridge for the first unit\n",
        "\n",
        "'R' = Removed, 'N' = Not removed\n",
        "\n",
        "Store the result in list \"Raw Final B\""
      ]
    },
    {
      "cell_type": "code",
      "metadata": {
        "id": "-lGK2A3XK1QA",
        "colab_type": "code",
        "colab": {}
      },
      "source": [
        "raw_final_B = {}\n",
        "for key, value in raw_final_A.items():\n",
        "  # Add items without removing the Asp bridge\n",
        "  new_key_N = key + 'N'\n",
        "  new_value_N = value\n",
        "  raw_final_B[new_key_N] = new_value_N\n",
        "  # Add items with the Asp bridge removed\n",
        "  new_key_R = key + 'R'\n",
        "  new_value_R = round(value-bridge+water, round_pos)\n",
        "  raw_final_B[new_key_R] = new_value_R\n",
        "\n",
        "print(raw_final_B)\n",
        "print(len(raw_final_B))\n"
      ],
      "execution_count": 0,
      "outputs": []
    },
    {
      "cell_type": "markdown",
      "metadata": {
        "id": "R8loqELJM2Zz",
        "colab_type": "text"
      },
      "source": [
        "Account for the amino acid variation for the last unit\n",
        "\n",
        "'3' = 3 alaines, '4' = 4 alanines, '5' = 5 alanies, 'L' = Extra lactate\n",
        "\n",
        "Store the result in list \"Raw Final C\""
      ]
    },
    {
      "cell_type": "code",
      "metadata": {
        "id": "sNZ-NwdINOmL",
        "colab_type": "code",
        "colab": {}
      },
      "source": [
        "raw_final_C = {}\n",
        "for key, value in raw_final_B.items():\n",
        "  # Add items with one alanine removed\n",
        "  new_key_3 = key + '3'\n",
        "  new_value_3 = round(value-ala+water, round_pos)\n",
        "  raw_final_C[new_key_3] = new_value_3\n",
        "  # Add items without any change\n",
        "  new_key_4 = key + '4'\n",
        "  new_value_4 = value\n",
        "  raw_final_C[new_key_4] = new_value_4\n",
        "  # Add items with one extra alanine\n",
        "  new_key_5 = key + '5'\n",
        "  new_value_5 = round(value+ala-water, round_pos)\n",
        "  raw_final_C[new_key_5] = new_value_5\n",
        "  # Add items with one extra lactate\n",
        "  new_key_L = key + 'L'\n",
        "  new_value_L = round(value+lactate-water, round_pos)\n",
        "  raw_final_C[new_key_L] = new_value_L\n",
        "\n",
        "print(raw_final_C)\n",
        "print(len(raw_final_C))\n"
      ],
      "execution_count": 0,
      "outputs": []
    },
    {
      "cell_type": "markdown",
      "metadata": {
        "id": "bkx_2N0OPqpH",
        "colab_type": "text"
      },
      "source": [
        "Account for the cyclization of aspartic acids\n",
        "\n",
        "For each cyclization event, one moleclue of water is lost\n",
        "\n",
        "'C0' = No cyclization, 'C1' = 1 cyclization event, etc\n",
        "\n",
        "Store the result in list \"Raw Final D\""
      ]
    },
    {
      "cell_type": "code",
      "metadata": {
        "id": "UUSJpZrSQZc8",
        "colab_type": "code",
        "colab": {}
      },
      "source": [
        "# Helper function to calculate number of asp bridges\n",
        "# based on the characteriztic string\n",
        "def asp_bridge(c_string):\n",
        "  ans = -1\n",
        "  # Generally, number of asp bridges equals to\n",
        "  # number of units\n",
        "  ans = int(c_string[0])\n",
        "  # When the asp of the first unit is removed,\n",
        "  # available asp bridge is reduced by 1\n",
        "  if c_string[3] == 'R':\n",
        "    return ans-1\n",
        "  else:\n",
        "    return ans\n",
        "\n",
        "if code == 0 or code == 1: \n",
        "  raw_final_D = {}\n",
        "  for key, value in raw_final_C.items():\n",
        "    cyc_max = asp_bridge(key)\n",
        "    # Add the item without any cyclization first\n",
        "    new_key = key + 'C0'\n",
        "    new_value = value\n",
        "    raw_final_D[new_key] = new_value\n",
        "    # Add all items with at least 1 cyclization\n",
        "    cyc_num = 1\n",
        "    while cyc_num<=cyc_max:\n",
        "      new_key_C = key + 'C' + str(cyc_num)\n",
        "      new_value_C = round(value-cyc_num*water, round_pos)\n",
        "      raw_final_D[new_key_C] = new_value_C\n",
        "      cyc_num += 1\n",
        "else:\n",
        "  raw_final_D = raw_final_C\n",
        "\n",
        "print(raw_final_D)\n",
        "print(len(raw_final_D))\n",
        "  "
      ],
      "execution_count": 0,
      "outputs": []
    },
    {
      "cell_type": "markdown",
      "metadata": {
        "id": "4CnV2_glWhRl",
        "colab_type": "text"
      },
      "source": [
        "Output the final list as a CSV file"
      ]
    },
    {
      "cell_type": "code",
      "metadata": {
        "id": "E2sHo-ogWmio",
        "colab_type": "code",
        "colab": {}
      },
      "source": [
        "import csv\n",
        "\n",
        "output_file_name = 'RefList_'+combi_code[code]+'.csv'\n",
        "final = raw_final_D\n",
        "with open(output_file_name, 'w') as f:\n",
        "  f.write(\"Index, Property, Molecular weight\\n\")\n",
        "  i = 1\n",
        "  for key in final.keys():\n",
        "    f.write(\"%d,%s,%s\\n\"%(i, key, final[key]))\n",
        "    i = i+1"
      ],
      "execution_count": 0,
      "outputs": []
    },
    {
      "cell_type": "markdown",
      "metadata": {
        "id": "Kb-is_wFXAXT",
        "colab_type": "text"
      },
      "source": [
        "Download the output file from Google Colab workspace"
      ]
    },
    {
      "cell_type": "code",
      "metadata": {
        "id": "aXowBQEbWwCV",
        "colab_type": "code",
        "colab": {}
      },
      "source": [
        "!ls\n",
        "from google.colab import files\n",
        "files.download(output_file_name)"
      ],
      "execution_count": 0,
      "outputs": []
    }
  ]
}