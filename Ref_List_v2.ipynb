{
  "nbformat": 4,
  "nbformat_minor": 0,
  "metadata": {
    "colab": {
      "name": "Ref List v2.ipynb",
      "provenance": [],
      "collapsed_sections": []
    },
    "kernelspec": {
      "name": "python3",
      "display_name": "Python 3"
    }
  },
  "cells": [
    {
      "cell_type": "markdown",
      "metadata": {
        "id": "5e48cOZRlZRh",
        "colab_type": "text"
      },
      "source": [
        "Create a dictionary for the building block \n",
        "\n",
        "Key(Modification)-Value(Molecular weight) \n",
        "\n",
        "Key (e.g. 100) -> 1 block, 0 O-acetylation, 0 N-deacetylation \n",
        "\n",
        "For combination of *D*-*iso*-glutamine and *D*-aspartic acid"
      ]
    },
    {
      "cell_type": "code",
      "metadata": {
        "id": "akH-by7vlUt1",
        "colab_type": "code",
        "colab": {}
      },
      "source": [
        "combi_code = {0:'AspGln', 1:'AspGlu', 2:'AsnGln', 3:'AsnGlu'}\n",
        "blocks_set = [{}, {}, {}, {}]\n",
        "# Bridge: Asp, peptide: Gln, code = 0\n",
        "blocks_set[0] = {'100':1009.4452, '110':1051.4557, '101':967.4346, '111':1009.4452}\n",
        "# Bridge: Asp, peptide: Glu, code = 1\n",
        "blocks_set[1] = {'100':1010.4292, '110':1052.4397, '101':968.4186, '111':1010.4292}\n",
        "# Bridge: Asn, peptide: Gln, code = 2\n",
        "blocks_set[2] = {'100':1008.4611, '110':1050.4717, '101':966.4506, '111':1008.4611}\n",
        "# Bridge: Asn, peptide: Glu, code = 3\n",
        "blocks_set[3] = {'100':1009.4452, '110':1051.4557, '101':967.4346, '111':1009.4452}\n",
        "\n",
        "# Choose the combination to work with\n",
        "code = 0\n",
        "blocks = blocks_set[code]\n",
        "\n",
        "water = 18.0106\n",
        "ala = 89.0477\n",
        "lactate = 90.0317\n",
        "asp = 133.0375\n",
        "asn = 132.0535\n",
        "\n",
        "if code == 0 or code == 1:\n",
        "  bridge = asp\n",
        "else:\n",
        "  bridge = asn\n",
        "\n",
        "# Threshold for MS value comparison\n",
        "thres = 0.05\n",
        "# Decimal place for MW calculation\n",
        "round_pos = 4\n",
        "# Threshold for elimination of diplicates\n",
        "criteria = 0.0005"
      ],
      "execution_count": 0,
      "outputs": []
    },
    {
      "cell_type": "markdown",
      "metadata": {
        "id": "FK2-AIvPoil6",
        "colab_type": "text"
      },
      "source": [
        "Create a dictionary for monomers\n",
        "\n",
        "Eliminate duplicate values"
      ]
    },
    {
      "cell_type": "code",
      "metadata": {
        "id": "gIqWzj1wolXv",
        "colab_type": "code",
        "outputId": "b1adabd7-4f14-40aa-91cb-cfe75b04fbb7",
        "colab": {
          "base_uri": "https://localhost:8080/",
          "height": 51
        }
      },
      "source": [
        "monomers = {}\n",
        "for key, value in blocks.items():\n",
        "  new_key = key\n",
        "  new_value = round(value, round_pos)\n",
        "  if new_value not in monomers.values():\n",
        "    monomers[new_key] = new_value\n",
        "\n",
        "print(monomers)\n",
        "print(len(monomers))"
      ],
      "execution_count": 42,
      "outputs": [
        {
          "output_type": "stream",
          "text": [
            "{'100': 1009.4452, '110': 1051.4557, '101': 967.4346}\n",
            "3\n"
          ],
          "name": "stdout"
        }
      ]
    },
    {
      "cell_type": "markdown",
      "metadata": {
        "id": "bZnzA_Gz1WiU",
        "colab_type": "text"
      },
      "source": [
        "Create a dictionary for dimers\n",
        "\n",
        "Eliminate duplicates when difference is less than criteria"
      ]
    },
    {
      "cell_type": "code",
      "metadata": {
        "id": "ZpmTcFNz1Yh_",
        "colab_type": "code",
        "outputId": "7d4db032-4f8b-40b1-f0e6-74bb60c0a723",
        "colab": {
          "base_uri": "https://localhost:8080/",
          "height": 85
        }
      },
      "source": [
        "raw_dimers = {}\n",
        "for key1, value1 in monomers.items():\n",
        "  for key2, value2 in blocks.items():\n",
        "    new_key = str(int(key1)+int(key2))\n",
        "    new_value = round(value1+value2-water, round_pos)\n",
        "    raw_dimers[new_key] = new_value\n",
        "\n",
        "print(raw_dimers)\n",
        "print(len(raw_dimers))\n",
        "\n",
        "dimers = {}\n",
        "for new_key, new_value in raw_dimers.items():\n",
        "  flag = False\n",
        "  for exist_value in dimers.values():\n",
        "    # As soon as duplicate is detected, break the loop\n",
        "    if abs(new_value-exist_value)<=criteria:\n",
        "      flag = True\n",
        "      break\n",
        "  # If no duplication was detected, add the new pair to dictionary\n",
        "  if flag == False:\n",
        "    dimers[new_key] = new_value\n",
        "    \n",
        "\n",
        "print(dimers)\n",
        "print(len(dimers))"
      ],
      "execution_count": 43,
      "outputs": [
        {
          "output_type": "stream",
          "text": [
            "{'200': 2000.8798, '210': 2042.8903, '201': 1958.8692, '211': 2000.8797, '220': 2084.9008, '221': 2042.8903, '202': 1916.8586, '212': 1958.8692}\n",
            "8\n",
            "{'200': 2000.8798, '210': 2042.8903, '201': 1958.8692, '220': 2084.9008, '202': 1916.8586}\n",
            "5\n"
          ],
          "name": "stdout"
        }
      ]
    },
    {
      "cell_type": "markdown",
      "metadata": {
        "id": "yTiSwYPwDaMg",
        "colab_type": "text"
      },
      "source": [
        "Create a dictionary for trimers\n",
        "\n",
        "Eliminate duplicates when difference is less than criteria"
      ]
    },
    {
      "cell_type": "code",
      "metadata": {
        "id": "QSwhj5BhDcpE",
        "colab_type": "code",
        "outputId": "799c7f45-3112-4759-8585-0de305f9026a",
        "colab": {
          "base_uri": "https://localhost:8080/",
          "height": 105
        }
      },
      "source": [
        "raw_trimers = {}\n",
        "for key1, value1 in dimers.items():\n",
        "  for key2, value2 in blocks.items():\n",
        "    new_key = str(int(key1)+int(key2))\n",
        "    new_value = round(value1+value2-water, round_pos)\n",
        "    raw_trimers[new_key] = new_value\n",
        "\n",
        "print(raw_trimers)\n",
        "print(len(raw_trimers))\n",
        "\n",
        "trimers = {}\n",
        "for new_key, new_value in raw_trimers.items():\n",
        "  flag = False\n",
        "  for exist_value in trimers.values():\n",
        "    # As soon as duplicate is detected, break the loop\n",
        "    if abs(new_value-exist_value)<=criteria:\n",
        "      flag = True\n",
        "      break\n",
        "  # If no duplication was detected, add the new pair to dictionary\n",
        "  if flag == False:\n",
        "    trimers[new_key] = new_value\n",
        "\n",
        "print(trimers)\n",
        "print(len(trimers))"
      ],
      "execution_count": 44,
      "outputs": [
        {
          "output_type": "stream",
          "text": [
            "{'300': 2992.3144, '310': 3034.3249, '301': 2950.3038, '311': 2992.3143, '320': 3076.3354, '321': 3034.3248, '302': 2908.2932, '312': 2950.3037, '330': 3118.3459, '331': 3076.3354, '303': 2866.2826, '313': 2908.2932}\n",
            "12\n",
            "{'300': 2992.3144, '310': 3034.3249, '301': 2950.3038, '320': 3076.3354, '302': 2908.2932, '330': 3118.3459, '303': 2866.2826}\n",
            "7\n"
          ],
          "name": "stdout"
        }
      ]
    },
    {
      "cell_type": "markdown",
      "metadata": {
        "id": "rArJ-mJLHJyU",
        "colab_type": "text"
      },
      "source": [
        "Create a dictionary for tetramers\n",
        "\n",
        "Eliminate duplicates when difference is less than criteria"
      ]
    },
    {
      "cell_type": "code",
      "metadata": {
        "id": "BWsxbNyvHPOK",
        "colab_type": "code",
        "outputId": "ad7944f8-403e-40eb-acdc-5cd9e4cf2139",
        "colab": {
          "base_uri": "https://localhost:8080/",
          "height": 105
        }
      },
      "source": [
        "raw_tetramers = {}\n",
        "for key1, value1 in trimers.items():\n",
        "  for key2, value2 in blocks.items():\n",
        "    new_key = str(int(key1)+int(key2))\n",
        "    new_value = round(value1+value2-water, round_pos)\n",
        "    raw_tetramers[new_key] = new_value\n",
        "\n",
        "print(raw_tetramers)\n",
        "print(len(raw_tetramers))\n",
        "\n",
        "tetramers = {}\n",
        "for new_key, new_value in raw_tetramers.items():\n",
        "  flag = False\n",
        "  for exist_value in tetramers.values():\n",
        "    # As soon as duplicate is detected, break the loop\n",
        "    if abs(new_value-exist_value)<=criteria:\n",
        "      flag = True\n",
        "      break\n",
        "  # If no duplication was detected, add the new pair to dictionary\n",
        "  if flag == False:\n",
        "    tetramers[new_key] = new_value\n",
        "\n",
        "print(tetramers)\n",
        "print(len(tetramers))"
      ],
      "execution_count": 45,
      "outputs": [
        {
          "output_type": "stream",
          "text": [
            "{'400': 3983.749, '410': 4025.7595, '401': 3941.7384, '411': 3983.7489, '420': 4067.77, '421': 4025.7594, '402': 3899.7278, '412': 3941.7383, '430': 4109.7805, '431': 4067.7699, '403': 3857.7172, '413': 3899.7277, '440': 4151.791, '441': 4109.7805, '404': 3815.7066, '414': 3857.7172}\n",
            "16\n",
            "{'400': 3983.749, '410': 4025.7595, '401': 3941.7384, '420': 4067.77, '402': 3899.7278, '430': 4109.7805, '403': 3857.7172, '440': 4151.791, '404': 3815.7066}\n",
            "9\n"
          ],
          "name": "stdout"
        }
      ]
    },
    {
      "cell_type": "markdown",
      "metadata": {
        "id": "tU9ge9i9IMHO",
        "colab_type": "text"
      },
      "source": [
        "Create a dictionary for pentamers\n",
        "\n",
        "Eliminate duplicates when difference is less than criteria"
      ]
    },
    {
      "cell_type": "code",
      "metadata": {
        "id": "PZ2JfY8rIRM8",
        "colab_type": "code",
        "outputId": "954ebdce-aaf7-4f38-ecfb-6258ea28078c",
        "colab": {
          "base_uri": "https://localhost:8080/",
          "height": 105
        }
      },
      "source": [
        "raw_pentamers = {}\n",
        "for key1, value1 in tetramers.items():\n",
        "  for key2, value2 in blocks.items():\n",
        "    new_key = str(int(key1)+int(key2))\n",
        "    new_value = round(value1+value2-water, round_pos)\n",
        "    raw_pentamers[new_key] = new_value\n",
        "\n",
        "print(raw_pentamers)\n",
        "print(len(raw_pentamers))\n",
        "\n",
        "pentamers = {}\n",
        "for new_key, new_value in raw_pentamers.items():\n",
        "  flag = False\n",
        "  for exist_value in pentamers.values():\n",
        "    # As soon as duplicate is detected, break the loop\n",
        "    if abs(new_value-exist_value)<=criteria:\n",
        "      flag = True\n",
        "      break\n",
        "  # If no duplication was detected, add the new pair to dictionary\n",
        "  if flag == False:\n",
        "    pentamers[new_key] = new_value\n",
        "\n",
        "print(pentamers)\n",
        "print(len(pentamers))"
      ],
      "execution_count": 46,
      "outputs": [
        {
          "output_type": "stream",
          "text": [
            "{'500': 4975.1836, '510': 5017.1941, '501': 4933.173, '511': 4975.1835, '520': 5059.2046, '521': 5017.194, '502': 4891.1624, '512': 4933.1729, '530': 5101.2151, '531': 5059.2045, '503': 4849.1518, '513': 4891.1623, '540': 5143.2256, '541': 5101.215, '504': 4807.1412, '514': 4849.1517, '550': 5185.2361, '551': 5143.2256, '505': 4765.1306, '515': 4807.1412}\n",
            "20\n",
            "{'500': 4975.1836, '510': 5017.1941, '501': 4933.173, '520': 5059.2046, '502': 4891.1624, '530': 5101.2151, '503': 4849.1518, '540': 5143.2256, '504': 4807.1412, '550': 5185.2361, '505': 4765.1306}\n",
            "11\n"
          ],
          "name": "stdout"
        }
      ]
    },
    {
      "cell_type": "markdown",
      "metadata": {
        "id": "LUonOOZbIrRN",
        "colab_type": "text"
      },
      "source": [
        "Combine monomers, dimers, trimers, tetramers and pentamers as list \"Raw Final A\""
      ]
    },
    {
      "cell_type": "code",
      "metadata": {
        "id": "awbVcm8IIwKi",
        "colab_type": "code",
        "outputId": "0154b7dd-fdd8-4599-9d89-6a63234e2bee",
        "colab": {
          "base_uri": "https://localhost:8080/",
          "height": 71
        }
      },
      "source": [
        "raw_final_A = {}\n",
        "raw_final_A.update(monomers)\n",
        "raw_final_A.update(dimers)\n",
        "raw_final_A.update(trimers)\n",
        "raw_final_A.update(tetramers)\n",
        "raw_final_A.update(pentamers)\n",
        "\n",
        "print(raw_final_A)\n",
        "print(len(raw_final_A))"
      ],
      "execution_count": 47,
      "outputs": [
        {
          "output_type": "stream",
          "text": [
            "{'100': 1009.4452, '110': 1051.4557, '101': 967.4346, '200': 2000.8798, '210': 2042.8903, '201': 1958.8692, '220': 2084.9008, '202': 1916.8586, '300': 2992.3144, '310': 3034.3249, '301': 2950.3038, '320': 3076.3354, '302': 2908.2932, '330': 3118.3459, '303': 2866.2826, '400': 3983.749, '410': 4025.7595, '401': 3941.7384, '420': 4067.77, '402': 3899.7278, '430': 4109.7805, '403': 3857.7172, '440': 4151.791, '404': 3815.7066, '500': 4975.1836, '510': 5017.1941, '501': 4933.173, '520': 5059.2046, '502': 4891.1624, '530': 5101.2151, '503': 4849.1518, '540': 5143.2256, '504': 4807.1412, '550': 5185.2361, '505': 4765.1306}\n",
            "35\n"
          ],
          "name": "stdout"
        }
      ]
    },
    {
      "cell_type": "markdown",
      "metadata": {
        "id": "p4If9xTnKlhW",
        "colab_type": "text"
      },
      "source": [
        "Account for removing (R) asp bridge for the first unit\n",
        "\n",
        "'R' = Removed, 'N' = Not removed\n",
        "\n",
        "Store the result in list \"Raw Final B\""
      ]
    },
    {
      "cell_type": "code",
      "metadata": {
        "id": "-lGK2A3XK1QA",
        "colab_type": "code",
        "outputId": "1f9b1215-5035-4409-af3b-dc2f6bd817f9",
        "colab": {
          "base_uri": "https://localhost:8080/",
          "height": 71
        }
      },
      "source": [
        "raw_final_B = {}\n",
        "for key, value in raw_final_A.items():\n",
        "  # Add items without removing the Asp bridge\n",
        "  new_key_N = key + 'N'\n",
        "  new_value_N = value\n",
        "  raw_final_B[new_key_N] = new_value_N\n",
        "  # Add items with the Asp bridge removed\n",
        "  new_key_R = key + 'R'\n",
        "  new_value_R = round(value-bridge+water, round_pos)\n",
        "  raw_final_B[new_key_R] = new_value_R\n",
        "\n",
        "print(raw_final_B)\n",
        "print(len(raw_final_B))\n"
      ],
      "execution_count": 48,
      "outputs": [
        {
          "output_type": "stream",
          "text": [
            "{'100N': 1009.4452, '100R': 895.4023, '110N': 1051.4557, '110R': 937.4128, '101N': 967.4346, '101R': 853.3917, '200N': 2000.8798, '200R': 1886.8369, '210N': 2042.8903, '210R': 1928.8474, '201N': 1958.8692, '201R': 1844.8263, '220N': 2084.9008, '220R': 1970.8579, '202N': 1916.8586, '202R': 1802.8157, '300N': 2992.3144, '300R': 2878.2715, '310N': 3034.3249, '310R': 2920.282, '301N': 2950.3038, '301R': 2836.2609, '320N': 3076.3354, '320R': 2962.2925, '302N': 2908.2932, '302R': 2794.2503, '330N': 3118.3459, '330R': 3004.303, '303N': 2866.2826, '303R': 2752.2397, '400N': 3983.749, '400R': 3869.7061, '410N': 4025.7595, '410R': 3911.7166, '401N': 3941.7384, '401R': 3827.6955, '420N': 4067.77, '420R': 3953.7271, '402N': 3899.7278, '402R': 3785.6849, '430N': 4109.7805, '430R': 3995.7376, '403N': 3857.7172, '403R': 3743.6743, '440N': 4151.791, '440R': 4037.7481, '404N': 3815.7066, '404R': 3701.6637, '500N': 4975.1836, '500R': 4861.1407, '510N': 5017.1941, '510R': 4903.1512, '501N': 4933.173, '501R': 4819.1301, '520N': 5059.2046, '520R': 4945.1617, '502N': 4891.1624, '502R': 4777.1195, '530N': 5101.2151, '530R': 4987.1722, '503N': 4849.1518, '503R': 4735.1089, '540N': 5143.2256, '540R': 5029.1827, '504N': 4807.1412, '504R': 4693.0983, '550N': 5185.2361, '550R': 5071.1932, '505N': 4765.1306, '505R': 4651.0877}\n",
            "70\n"
          ],
          "name": "stdout"
        }
      ]
    },
    {
      "cell_type": "markdown",
      "metadata": {
        "id": "R8loqELJM2Zz",
        "colab_type": "text"
      },
      "source": [
        "Account for the amino acid variation for the last unit\n",
        "\n",
        "'3' = 3 alaines, '4' = 4 alanines, '5' = 5 alanies, 'L' = Extra lactate\n",
        "\n",
        "Store the result in list \"Raw Final C\""
      ]
    },
    {
      "cell_type": "code",
      "metadata": {
        "id": "sNZ-NwdINOmL",
        "colab_type": "code",
        "outputId": "f65093a2-f489-4a70-d4e3-671e211ca1e8",
        "colab": {
          "base_uri": "https://localhost:8080/",
          "height": 71
        }
      },
      "source": [
        "raw_final_C = {}\n",
        "for key, value in raw_final_B.items():\n",
        "  # Add items with one alanine removed\n",
        "  new_key_3 = key + '3'\n",
        "  new_value_3 = round(value-ala+water, round_pos)\n",
        "  raw_final_C[new_key_3] = new_value_3\n",
        "  # Add items without any change\n",
        "  new_key_4 = key + '4'\n",
        "  new_value_4 = value\n",
        "  raw_final_C[new_key_4] = new_value_4\n",
        "  # Add items with one extra alanine\n",
        "  new_key_5 = key + '5'\n",
        "  new_value_5 = round(value+ala-water, round_pos)\n",
        "  raw_final_C[new_key_5] = new_value_5\n",
        "  # Add items with one extra lactate\n",
        "  new_key_L = key + 'L'\n",
        "  new_value_L = round(value+lactate-water, round_pos)\n",
        "  raw_final_C[new_key_L] = new_value_L\n",
        "\n",
        "print(raw_final_C)\n",
        "print(len(raw_final_C))\n"
      ],
      "execution_count": 49,
      "outputs": [
        {
          "output_type": "stream",
          "text": [
            "{'100N3': 938.4081, '100N4': 1009.4452, '100N5': 1080.4823, '100NL': 1081.4663, '100R3': 824.3652, '100R4': 895.4023, '100R5': 966.4394, '100RL': 967.4234, '110N3': 980.4186, '110N4': 1051.4557, '110N5': 1122.4928, '110NL': 1123.4768, '110R3': 866.3757, '110R4': 937.4128, '110R5': 1008.4499, '110RL': 1009.4339, '101N3': 896.3975, '101N4': 967.4346, '101N5': 1038.4717, '101NL': 1039.4557, '101R3': 782.3546, '101R4': 853.3917, '101R5': 924.4288, '101RL': 925.4128, '200N3': 1929.8427, '200N4': 2000.8798, '200N5': 2071.9169, '200NL': 2072.9009, '200R3': 1815.7998, '200R4': 1886.8369, '200R5': 1957.874, '200RL': 1958.858, '210N3': 1971.8532, '210N4': 2042.8903, '210N5': 2113.9274, '210NL': 2114.9114, '210R3': 1857.8103, '210R4': 1928.8474, '210R5': 1999.8845, '210RL': 2000.8685, '201N3': 1887.8321, '201N4': 1958.8692, '201N5': 2029.9063, '201NL': 2030.8903, '201R3': 1773.7892, '201R4': 1844.8263, '201R5': 1915.8634, '201RL': 1916.8474, '220N3': 2013.8637, '220N4': 2084.9008, '220N5': 2155.9379, '220NL': 2156.9219, '220R3': 1899.8208, '220R4': 1970.8579, '220R5': 2041.895, '220RL': 2042.879, '202N3': 1845.8215, '202N4': 1916.8586, '202N5': 1987.8957, '202NL': 1988.8797, '202R3': 1731.7786, '202R4': 1802.8157, '202R5': 1873.8528, '202RL': 1874.8368, '300N3': 2921.2773, '300N4': 2992.3144, '300N5': 3063.3515, '300NL': 3064.3355, '300R3': 2807.2344, '300R4': 2878.2715, '300R5': 2949.3086, '300RL': 2950.2926, '310N3': 2963.2878, '310N4': 3034.3249, '310N5': 3105.362, '310NL': 3106.346, '310R3': 2849.2449, '310R4': 2920.282, '310R5': 2991.3191, '310RL': 2992.3031, '301N3': 2879.2667, '301N4': 2950.3038, '301N5': 3021.3409, '301NL': 3022.3249, '301R3': 2765.2238, '301R4': 2836.2609, '301R5': 2907.298, '301RL': 2908.282, '320N3': 3005.2983, '320N4': 3076.3354, '320N5': 3147.3725, '320NL': 3148.3565, '320R3': 2891.2554, '320R4': 2962.2925, '320R5': 3033.3296, '320RL': 3034.3136, '302N3': 2837.2561, '302N4': 2908.2932, '302N5': 2979.3303, '302NL': 2980.3143, '302R3': 2723.2132, '302R4': 2794.2503, '302R5': 2865.2874, '302RL': 2866.2714, '330N3': 3047.3088, '330N4': 3118.3459, '330N5': 3189.383, '330NL': 3190.367, '330R3': 2933.2659, '330R4': 3004.303, '330R5': 3075.3401, '330RL': 3076.3241, '303N3': 2795.2455, '303N4': 2866.2826, '303N5': 2937.3197, '303NL': 2938.3037, '303R3': 2681.2026, '303R4': 2752.2397, '303R5': 2823.2768, '303RL': 2824.2608, '400N3': 3912.7119, '400N4': 3983.749, '400N5': 4054.7861, '400NL': 4055.7701, '400R3': 3798.669, '400R4': 3869.7061, '400R5': 3940.7432, '400RL': 3941.7272, '410N3': 3954.7224, '410N4': 4025.7595, '410N5': 4096.7966, '410NL': 4097.7806, '410R3': 3840.6795, '410R4': 3911.7166, '410R5': 3982.7537, '410RL': 3983.7377, '401N3': 3870.7013, '401N4': 3941.7384, '401N5': 4012.7755, '401NL': 4013.7595, '401R3': 3756.6584, '401R4': 3827.6955, '401R5': 3898.7326, '401RL': 3899.7166, '420N3': 3996.7329, '420N4': 4067.77, '420N5': 4138.8071, '420NL': 4139.7911, '420R3': 3882.69, '420R4': 3953.7271, '420R5': 4024.7642, '420RL': 4025.7482, '402N3': 3828.6907, '402N4': 3899.7278, '402N5': 3970.7649, '402NL': 3971.7489, '402R3': 3714.6478, '402R4': 3785.6849, '402R5': 3856.722, '402RL': 3857.706, '430N3': 4038.7434, '430N4': 4109.7805, '430N5': 4180.8176, '430NL': 4181.8016, '430R3': 3924.7005, '430R4': 3995.7376, '430R5': 4066.7747, '430RL': 4067.7587, '403N3': 3786.6801, '403N4': 3857.7172, '403N5': 3928.7543, '403NL': 3929.7383, '403R3': 3672.6372, '403R4': 3743.6743, '403R5': 3814.7114, '403RL': 3815.6954, '440N3': 4080.7539, '440N4': 4151.791, '440N5': 4222.8281, '440NL': 4223.8121, '440R3': 3966.711, '440R4': 4037.7481, '440R5': 4108.7852, '440RL': 4109.7692, '404N3': 3744.6695, '404N4': 3815.7066, '404N5': 3886.7437, '404NL': 3887.7277, '404R3': 3630.6266, '404R4': 3701.6637, '404R5': 3772.7008, '404RL': 3773.6848, '500N3': 4904.1465, '500N4': 4975.1836, '500N5': 5046.2207, '500NL': 5047.2047, '500R3': 4790.1036, '500R4': 4861.1407, '500R5': 4932.1778, '500RL': 4933.1618, '510N3': 4946.157, '510N4': 5017.1941, '510N5': 5088.2312, '510NL': 5089.2152, '510R3': 4832.1141, '510R4': 4903.1512, '510R5': 4974.1883, '510RL': 4975.1723, '501N3': 4862.1359, '501N4': 4933.173, '501N5': 5004.2101, '501NL': 5005.1941, '501R3': 4748.093, '501R4': 4819.1301, '501R5': 4890.1672, '501RL': 4891.1512, '520N3': 4988.1675, '520N4': 5059.2046, '520N5': 5130.2417, '520NL': 5131.2257, '520R3': 4874.1246, '520R4': 4945.1617, '520R5': 5016.1988, '520RL': 5017.1828, '502N3': 4820.1253, '502N4': 4891.1624, '502N5': 4962.1995, '502NL': 4963.1835, '502R3': 4706.0824, '502R4': 4777.1195, '502R5': 4848.1566, '502RL': 4849.1406, '530N3': 5030.178, '530N4': 5101.2151, '530N5': 5172.2522, '530NL': 5173.2362, '530R3': 4916.1351, '530R4': 4987.1722, '530R5': 5058.2093, '530RL': 5059.1933, '503N3': 4778.1147, '503N4': 4849.1518, '503N5': 4920.1889, '503NL': 4921.1729, '503R3': 4664.0718, '503R4': 4735.1089, '503R5': 4806.146, '503RL': 4807.13, '540N3': 5072.1885, '540N4': 5143.2256, '540N5': 5214.2627, '540NL': 5215.2467, '540R3': 4958.1456, '540R4': 5029.1827, '540R5': 5100.2198, '540RL': 5101.2038, '504N3': 4736.1041, '504N4': 4807.1412, '504N5': 4878.1783, '504NL': 4879.1623, '504R3': 4622.0612, '504R4': 4693.0983, '504R5': 4764.1354, '504RL': 4765.1194, '550N3': 5114.199, '550N4': 5185.2361, '550N5': 5256.2732, '550NL': 5257.2572, '550R3': 5000.1561, '550R4': 5071.1932, '550R5': 5142.2303, '550RL': 5143.2143, '505N3': 4694.0935, '505N4': 4765.1306, '505N5': 4836.1677, '505NL': 4837.1517, '505R3': 4580.0506, '505R4': 4651.0877, '505R5': 4722.1248, '505RL': 4723.1088}\n",
            "280\n"
          ],
          "name": "stdout"
        }
      ]
    },
    {
      "cell_type": "markdown",
      "metadata": {
        "id": "bkx_2N0OPqpH",
        "colab_type": "text"
      },
      "source": [
        "Account for the cyclization of aspartic acids\n",
        "\n",
        "For each cyclization event, one moleclue of water is lost\n",
        "\n",
        "'C0' = No cyclization, 'C1' = 1 cyclization event, etc\n",
        "\n",
        "Store the result in list \"Raw Final D\""
      ]
    },
    {
      "cell_type": "code",
      "metadata": {
        "id": "UUSJpZrSQZc8",
        "colab_type": "code",
        "outputId": "5b215851-38de-4901-ba06-a2b2b77998eb",
        "colab": {
          "base_uri": "https://localhost:8080/",
          "height": 71
        }
      },
      "source": [
        "# Helper function to calculate number of asp bridges\n",
        "# based on the characteriztic string\n",
        "def asp_bridge(c_string):\n",
        "  ans = -1\n",
        "  # Generally, number of asp bridges equals to\n",
        "  # number of units\n",
        "  ans = int(c_string[0])\n",
        "  # When the asp of the first unit is removed,\n",
        "  # available asp bridge is reduced by 1\n",
        "  if c_string[3] == 'R':\n",
        "    return ans-1\n",
        "  else:\n",
        "    return ans\n",
        "\n",
        "if code == 0 or code == 1: \n",
        "  raw_final_D = {}\n",
        "  for key, value in raw_final_C.items():\n",
        "    cyc_max = asp_bridge(key)\n",
        "    # Add the item without any cyclization first\n",
        "    new_key = key + 'C0'\n",
        "    new_value = value\n",
        "    raw_final_D[new_key] = new_value\n",
        "    # Add all items with at least 1 cyclization\n",
        "    cyc_num = 1\n",
        "    while cyc_num<=cyc_max:\n",
        "      new_key_C = key + 'C' + str(cyc_num)\n",
        "      new_value_C = round(value-cyc_num*water, round_pos)\n",
        "      raw_final_D[new_key_C] = new_value_C\n",
        "      cyc_num += 1\n",
        "else:\n",
        "  raw_final_D = raw_final_C\n",
        "\n",
        "print(raw_final_D)\n",
        "print(len(raw_final_D))\n",
        "  "
      ],
      "execution_count": 50,
      "outputs": [
        {
          "output_type": "stream",
          "text": [
            "{'100N3': 938.4081, '100N4': 1009.4452, '100N5': 1080.4823, '100NL': 1081.4663, '100R3': 824.3652, '100R4': 895.4023, '100R5': 966.4394, '100RL': 967.4234, '110N3': 980.4186, '110N4': 1051.4557, '110N5': 1122.4928, '110NL': 1123.4768, '110R3': 866.3757, '110R4': 937.4128, '110R5': 1008.4499, '110RL': 1009.4339, '101N3': 896.3975, '101N4': 967.4346, '101N5': 1038.4717, '101NL': 1039.4557, '101R3': 782.3546, '101R4': 853.3917, '101R5': 924.4288, '101RL': 925.4128, '200N3': 1929.8427, '200N4': 2000.8798, '200N5': 2071.9169, '200NL': 2072.9009, '200R3': 1815.7998, '200R4': 1886.8369, '200R5': 1957.874, '200RL': 1958.858, '210N3': 1971.8532, '210N4': 2042.8903, '210N5': 2113.9274, '210NL': 2114.9114, '210R3': 1857.8103, '210R4': 1928.8474, '210R5': 1999.8845, '210RL': 2000.8685, '201N3': 1887.8321, '201N4': 1958.8692, '201N5': 2029.9063, '201NL': 2030.8903, '201R3': 1773.7892, '201R4': 1844.8263, '201R5': 1915.8634, '201RL': 1916.8474, '220N3': 2013.8637, '220N4': 2084.9008, '220N5': 2155.9379, '220NL': 2156.9219, '220R3': 1899.8208, '220R4': 1970.8579, '220R5': 2041.895, '220RL': 2042.879, '202N3': 1845.8215, '202N4': 1916.8586, '202N5': 1987.8957, '202NL': 1988.8797, '202R3': 1731.7786, '202R4': 1802.8157, '202R5': 1873.8528, '202RL': 1874.8368, '300N3': 2921.2773, '300N4': 2992.3144, '300N5': 3063.3515, '300NL': 3064.3355, '300R3': 2807.2344, '300R4': 2878.2715, '300R5': 2949.3086, '300RL': 2950.2926, '310N3': 2963.2878, '310N4': 3034.3249, '310N5': 3105.362, '310NL': 3106.346, '310R3': 2849.2449, '310R4': 2920.282, '310R5': 2991.3191, '310RL': 2992.3031, '301N3': 2879.2667, '301N4': 2950.3038, '301N5': 3021.3409, '301NL': 3022.3249, '301R3': 2765.2238, '301R4': 2836.2609, '301R5': 2907.298, '301RL': 2908.282, '320N3': 3005.2983, '320N4': 3076.3354, '320N5': 3147.3725, '320NL': 3148.3565, '320R3': 2891.2554, '320R4': 2962.2925, '320R5': 3033.3296, '320RL': 3034.3136, '302N3': 2837.2561, '302N4': 2908.2932, '302N5': 2979.3303, '302NL': 2980.3143, '302R3': 2723.2132, '302R4': 2794.2503, '302R5': 2865.2874, '302RL': 2866.2714, '330N3': 3047.3088, '330N4': 3118.3459, '330N5': 3189.383, '330NL': 3190.367, '330R3': 2933.2659, '330R4': 3004.303, '330R5': 3075.3401, '330RL': 3076.3241, '303N3': 2795.2455, '303N4': 2866.2826, '303N5': 2937.3197, '303NL': 2938.3037, '303R3': 2681.2026, '303R4': 2752.2397, '303R5': 2823.2768, '303RL': 2824.2608, '400N3': 3912.7119, '400N4': 3983.749, '400N5': 4054.7861, '400NL': 4055.7701, '400R3': 3798.669, '400R4': 3869.7061, '400R5': 3940.7432, '400RL': 3941.7272, '410N3': 3954.7224, '410N4': 4025.7595, '410N5': 4096.7966, '410NL': 4097.7806, '410R3': 3840.6795, '410R4': 3911.7166, '410R5': 3982.7537, '410RL': 3983.7377, '401N3': 3870.7013, '401N4': 3941.7384, '401N5': 4012.7755, '401NL': 4013.7595, '401R3': 3756.6584, '401R4': 3827.6955, '401R5': 3898.7326, '401RL': 3899.7166, '420N3': 3996.7329, '420N4': 4067.77, '420N5': 4138.8071, '420NL': 4139.7911, '420R3': 3882.69, '420R4': 3953.7271, '420R5': 4024.7642, '420RL': 4025.7482, '402N3': 3828.6907, '402N4': 3899.7278, '402N5': 3970.7649, '402NL': 3971.7489, '402R3': 3714.6478, '402R4': 3785.6849, '402R5': 3856.722, '402RL': 3857.706, '430N3': 4038.7434, '430N4': 4109.7805, '430N5': 4180.8176, '430NL': 4181.8016, '430R3': 3924.7005, '430R4': 3995.7376, '430R5': 4066.7747, '430RL': 4067.7587, '403N3': 3786.6801, '403N4': 3857.7172, '403N5': 3928.7543, '403NL': 3929.7383, '403R3': 3672.6372, '403R4': 3743.6743, '403R5': 3814.7114, '403RL': 3815.6954, '440N3': 4080.7539, '440N4': 4151.791, '440N5': 4222.8281, '440NL': 4223.8121, '440R3': 3966.711, '440R4': 4037.7481, '440R5': 4108.7852, '440RL': 4109.7692, '404N3': 3744.6695, '404N4': 3815.7066, '404N5': 3886.7437, '404NL': 3887.7277, '404R3': 3630.6266, '404R4': 3701.6637, '404R5': 3772.7008, '404RL': 3773.6848, '500N3': 4904.1465, '500N4': 4975.1836, '500N5': 5046.2207, '500NL': 5047.2047, '500R3': 4790.1036, '500R4': 4861.1407, '500R5': 4932.1778, '500RL': 4933.1618, '510N3': 4946.157, '510N4': 5017.1941, '510N5': 5088.2312, '510NL': 5089.2152, '510R3': 4832.1141, '510R4': 4903.1512, '510R5': 4974.1883, '510RL': 4975.1723, '501N3': 4862.1359, '501N4': 4933.173, '501N5': 5004.2101, '501NL': 5005.1941, '501R3': 4748.093, '501R4': 4819.1301, '501R5': 4890.1672, '501RL': 4891.1512, '520N3': 4988.1675, '520N4': 5059.2046, '520N5': 5130.2417, '520NL': 5131.2257, '520R3': 4874.1246, '520R4': 4945.1617, '520R5': 5016.1988, '520RL': 5017.1828, '502N3': 4820.1253, '502N4': 4891.1624, '502N5': 4962.1995, '502NL': 4963.1835, '502R3': 4706.0824, '502R4': 4777.1195, '502R5': 4848.1566, '502RL': 4849.1406, '530N3': 5030.178, '530N4': 5101.2151, '530N5': 5172.2522, '530NL': 5173.2362, '530R3': 4916.1351, '530R4': 4987.1722, '530R5': 5058.2093, '530RL': 5059.1933, '503N3': 4778.1147, '503N4': 4849.1518, '503N5': 4920.1889, '503NL': 4921.1729, '503R3': 4664.0718, '503R4': 4735.1089, '503R5': 4806.146, '503RL': 4807.13, '540N3': 5072.1885, '540N4': 5143.2256, '540N5': 5214.2627, '540NL': 5215.2467, '540R3': 4958.1456, '540R4': 5029.1827, '540R5': 5100.2198, '540RL': 5101.2038, '504N3': 4736.1041, '504N4': 4807.1412, '504N5': 4878.1783, '504NL': 4879.1623, '504R3': 4622.0612, '504R4': 4693.0983, '504R5': 4764.1354, '504RL': 4765.1194, '550N3': 5114.199, '550N4': 5185.2361, '550N5': 5256.2732, '550NL': 5257.2572, '550R3': 5000.1561, '550R4': 5071.1932, '550R5': 5142.2303, '550RL': 5143.2143, '505N3': 4694.0935, '505N4': 4765.1306, '505N5': 4836.1677, '505NL': 4837.1517, '505R3': 4580.0506, '505R4': 4651.0877, '505R5': 4722.1248, '505RL': 4723.1088}\n",
            "280\n"
          ],
          "name": "stdout"
        }
      ]
    },
    {
      "cell_type": "markdown",
      "metadata": {
        "id": "4CnV2_glWhRl",
        "colab_type": "text"
      },
      "source": [
        "Output the final list as a CSV file"
      ]
    },
    {
      "cell_type": "code",
      "metadata": {
        "id": "E2sHo-ogWmio",
        "colab_type": "code",
        "colab": {}
      },
      "source": [
        "import csv\n",
        "\n",
        "output_file_name = 'RefList_'+combi_code[code]+'.csv'\n",
        "final = raw_final_D\n",
        "with open(output_file_name, 'w') as f:\n",
        "  f.write(\"Index, Property, Molecular weight\\n\")\n",
        "  i = 1\n",
        "  for key in final.keys():\n",
        "    f.write(\"%d,%s,%s\\n\"%(i, key, final[key]))\n",
        "    i = i+1"
      ],
      "execution_count": 0,
      "outputs": []
    },
    {
      "cell_type": "markdown",
      "metadata": {
        "id": "Kb-is_wFXAXT",
        "colab_type": "text"
      },
      "source": [
        "Download the output file from Google Colab workspace"
      ]
    },
    {
      "cell_type": "code",
      "metadata": {
        "id": "aXowBQEbWwCV",
        "colab_type": "code",
        "outputId": "773b45cf-cfa3-4bdd-a309-0f4528ce0d25",
        "colab": {
          "base_uri": "https://localhost:8080/",
          "height": 51
        }
      },
      "source": [
        "!ls\n",
        "from google.colab import files\n",
        "files.download(output_file_name)"
      ],
      "execution_count": 52,
      "outputs": [
        {
          "output_type": "stream",
          "text": [
            "RefList_AsnGln.csv  RefList_AspGln.csv\tsample_data\n",
            "RefList_AsnGlu.csv  RefList_AspGlu.csv\n"
          ],
          "name": "stdout"
        }
      ]
    }
  ]
}